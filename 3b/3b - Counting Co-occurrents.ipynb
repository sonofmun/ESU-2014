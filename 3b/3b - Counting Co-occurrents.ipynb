{
 "metadata": {
  "name": ""
 },
 "nbformat": 3,
 "nbformat_minor": 0,
 "worksheets": [
  {
   "cells": [
    {
     "cell_type": "markdown",
     "metadata": {},
     "source": [
      "The first step we need to take in order to apply distributional semantics to our texts is to design a script that counts the number of co-occurrences for each co-occurrent $c$ within a certain range of each target word $t$.  This notebook will lead you through this process step by step.<br>\n",
      "First, we need to write a function that takes as input the complete file path of a text file, breaks our texts down into an ordered list of words, and saves it as, well, a list.  You did this is exercise 1b, so you should re-use your code as much as possible here."
     ]
    },
    {
     "cell_type": "code",
     "collapsed": false,
     "input": [
      "def txt_to_list(filename):\n",
      "    # insert your code here\n",
      "    return l\n",
      "\n",
      "# Test your code on this short text.  Make sure to look at the results!\n",
      "types = txt_to_list('austen-emma-excerpt.txt')\n",
      "print(types)"
     ],
     "language": "python",
     "metadata": {},
     "outputs": []
    },
    {
     "cell_type": "markdown",
     "metadata": {},
     "source": [
      "OK, that should have been easy.  The next easy step is to write another short function that takes the list returned by the `txt_to_list` function and produces a dictionary where the keys are the individual types in the text and the values are the total counts of that type in the text.  Such a count dictionary will be necessary for our later calculations.<br>\n",
      "__Hint:__ Using `Counter` here will simplify the task significantly."
     ]
    },
    {
     "cell_type": "code",
     "collapsed": false,
     "input": [
      "def make_count_dict(l):\n",
      "    # insert your code here\n",
      "    return d\n",
      "\n",
      "# Below tests your code.  Again, make sure to check your results.\n",
      "count_dict = make_count_dict(types)\n",
      "print(count_dict)"
     ],
     "language": "python",
     "metadata": {},
     "outputs": []
    },
    {
     "cell_type": "markdown",
     "metadata": {},
     "source": [
      "Now, the next step will be a bit more complex.  We now want to write a function that takes as input a type list and window size and returns a dictionary where the keys are the target words $t$, which are the members of your type list, and the values are _also_ dictionaries where the keys are the co-occurrents $c$, which are, again, the members of your type list, and the values for this dictionary are the number of times that $c$ co-occurs within the window around $t$.  Mathematically, it is $n(c,t)$.<br>\n",
      "In the end, your dictionary should look something like this: {'the': {'the': 1000, 'aardvark': 8, 'be': 100...}}.<br>\n",
      "__Hint:__ Consider using a `defaultdict` and a `Counter` for this."
     ]
    },
    {
     "cell_type": "code",
     "collapsed": false,
     "input": [
      "def make_cooc_dict(l, window_size = 4):\n",
      "    '''Takes as input a type list and a window size (default == 4).\n",
      "        The window size is the distance in words both left and right from the target word.\n",
      "        For instance, if you want 4 words left and 4 words right of your target word, window_size = 4\n",
      "    '''\n",
      "    \n",
      "    # insert your code here\n",
      "    return d\n",
      "\n",
      "# Below tests your code.  Check your results.\n",
      "cooc_dict = make_cooc_dict(types, window_size = 4)\n",
      "print(cooc_dict)"
     ],
     "language": "python",
     "metadata": {},
     "outputs": [],
     "prompt_number": 3
    },
    {
     "cell_type": "markdown",
     "metadata": {},
     "source": [
      "We have been using dictionaries up to this point instead of Pandas Series and DataFrame objects because the former are much more memory efficient than the latter.  We should only switch over to Pandas objects when we want to start vectorizing our calculations.  This is the point at which the increased memory drain of the Pandas objects pays for itself in _speed!_"
     ]
    },
    {
     "cell_type": "heading",
     "level": 4,
     "metadata": {},
     "source": [
      "Quiz:<br>\n",
      "Now it is time to put your functions to the test with your own texts.  If you did not bring your own texts to the summer school with you, use the texts in the `Data` folder for lesson 1b.  Below, write a script that will go to the folder on your computer where your text files are, return a list of the names of all the .txt files in that folder (_Hint:_ Check out <a href='https://docs.python.org/3/library/os.html#os.listdir'>os.listdir()</a> function to help with this), and then runs each text through each of the functions you wrote above.  Finally, convert both your dictionaries into Pandas objects (you decide which `type` is the best for each dictionary) and save them as `.pickle` files using the `df.to_pickle()` method.<br>\n",
      "As background, `pickle` serializes your Python objects, which basically means that it saves your Python objects as Python objects, e.g., it will save your dictionaries as Python dictionary objects.  This is typically both more efficient in terms of disk storage space and in processing time when saving and reloading the objects from and back into Python.<br><br>\n",
      "_Hint:_ You might also want to check out the <a href='http://tkinter.unpythonic.net/wiki/tkFileDialog'>tkinter.filedialog</a> functions.  They open an open or save file dialog interface so that you can choose the files that you want to work with on-the-fly.  They are great tools to ease file interaction and to generalize the code you write for different purposes and different operating systems.<br><br>\n",
      "_Hint #2:_ If you are running out of memory when producing your Pandas objects or pickling them, try `del` objects that you don't need any more.  For instance, once you have run the `make_count_dict` and `make_cooc_dict` functions, you don't need `types` anymore.  So type: `del types`.  Do the same with your dictionaries once you have converted them to Pandas objects and your Pandas objects once you have pickled them."
     ]
    },
    {
     "cell_type": "code",
     "collapsed": false,
     "input": [
      "from os import listdir\n",
      "\n",
      "# insert your code here"
     ],
     "language": "python",
     "metadata": {},
     "outputs": [],
     "prompt_number": 5
    }
   ],
   "metadata": {}
  }
 ]
}