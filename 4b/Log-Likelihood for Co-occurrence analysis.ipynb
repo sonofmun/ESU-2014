{
 "metadata": {
  "name": ""
 },
 "nbformat": 3,
 "nbformat_minor": 0,
 "worksheets": [
  {
   "cells": [
    {
     "cell_type": "heading",
     "level": 1,
     "metadata": {},
     "source": [
      "The Log-Likelihood Ratio for Statistical Evaluation of Co-occurrence Counts"
     ]
    },
    {
     "cell_type": "markdown",
     "metadata": {},
     "source": [
      "You've now heard something about the log-likelihood ratio.  Now let's code it.  Refer to page {} of the presentation to get the formula."
     ]
    },
    {
     "cell_type": "code",
     "collapsed": false,
     "input": [
      "import pandas as pd\n",
      "\n",
      "N = 14307668\n",
      "data1 = pd.read_pickle('./data1.pickle')\n",
      "answers1 = pd.read_pickle('./answers1.pickle')\n",
      "print(data1)\n",
      "print(answers1)"
     ],
     "language": "python",
     "metadata": {},
     "outputs": [
      {
       "output_type": "stream",
       "stream": "stdout",
       "text": [
        "        0    1    2     3    4    5    6    7     8     9     10   11    12  \\\n",
        "c1   12593  379  932   932  932  932  171  932  4458  6252   932  932   932   \n",
        "c2     932  932  934  3424  291   40  932   43   932   932  2064  591  2339   \n",
        "c12    150   10   10    13    6    4    5    4    10    11     8    6     8   \n",
        "\n",
        "      13   14    15   16   17    18   19  \n",
        "c1   932  932   932  932  932   932  932  \n",
        "c2    16  396  3594   47  268  5245    3  \n",
        "c12    3    5     8    3    4     8    2  \n",
        "\n",
        "[3 rows x 20 columns]\n",
        "0     1291.319057\n",
        "1      100.501884\n",
        "2       82.375861\n",
        "3             NaN\n",
        "4       57.289085\n",
        "5       51.127010\n",
        "6       51.263504\n",
        "7       50.518990\n",
        "8       51.485557\n",
        "9       51.470043\n",
        "10            NaN\n",
        "11      48.762557\n",
        "12            NaN\n",
        "13      42.402713\n",
        "14      42.810908\n",
        "15            NaN\n",
        "16      35.535708\n",
        "17      35.585685\n",
        "18            NaN\n",
        "19      34.741233\n",
        "dtype: float64\n"
       ]
      }
     ],
     "prompt_number": 1
    },
    {
     "cell_type": "markdown",
     "metadata": {},
     "source": [
      "Take a look at data1.  You now have all the information you need to build your own log-likelihood script based on the formula given in the presentation.  Do so below."
     ]
    },
    {
     "cell_type": "code",
     "collapsed": false,
     "input": [
      "#Save your result as a pandas Series object called my_answers.\n",
      "#Put your code here.\n",
      "\n",
      "\n",
      "#Do not change the code below.  It is to check your answers.\n",
      "for i, v in my_answers.iteritems():\n",
      "\tif np.isnan(v):\n",
      "\t\tprint('Your answer for column %s is %s' % (i, np.isnan(answers[i])))\n",
      "\telse:\n",
      "\t\tprint('Your answer for column %s is %s' % (i, v == answers[i]))"
     ],
     "language": "python",
     "metadata": {},
     "outputs": []
    },
    {
     "cell_type": "markdown",
     "metadata": {},
     "source": [
      "If your answers are not the same as those in answers1, take a look at those answers and your own answers to try to figure out why."
     ]
    },
    {
     "cell_type": "markdown",
     "metadata": {},
     "source": [
      "Once you have gotten your answers to match up with those in answers1, try to figure out a way to deal with the other NaN values.  Figure out why they are coming up as NaN and then try to figure out how to fix it.  Write a code where all the values come up as real numbers instead of NaN."
     ]
    }
   ],
   "metadata": {}
  }
 ]
}