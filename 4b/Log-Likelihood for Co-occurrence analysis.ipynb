{
 "metadata": {
  "name": ""
 },
 "nbformat": 3,
 "nbformat_minor": 0,
 "worksheets": [
  {
   "cells": [
    {
     "cell_type": "heading",
     "level": 1,
     "metadata": {},
     "source": [
      "The Log-Likelihood Ratio for Statistical Evaluation of Co-occurrence Counts"
     ]
    },
    {
     "cell_type": "markdown",
     "metadata": {},
     "source": [
      "You've now heard something about the log-likelihood ratio.  Now let's code it.  Below is the equation.<br>\n",
      "$log\\text{ }\\lambda = log (\\frac{L(H_1\\textrm{) # independence}}{L(H_2\\textrm{) # dependence}})$<br>\n",
      "$= log\\text{ }L(c_{12}, c_1, p)\\text{ }+\\text{ }log\\text{ }L(c_2-c_{12}, N-c_1, p)$<br>\n",
      "$\\text{    }-\\text{ }log\\text{ }L(c_{12}, c_1, p_1)\\text{ }-\\text{ }log\\text{ }L(c_2-c_{12}, N-c_1, p_2)$"
     ]
    },
    {
     "cell_type": "heading",
     "level": 1,
     "metadata": {},
     "source": [
      "Derive the counts."
     ]
    },
    {
     "cell_type": "heading",
     "level": 1,
     "metadata": {},
     "source": [
      "Calculate the probabilities."
     ]
    },
    {
     "cell_type": "heading",
     "level": 1,
     "metadata": {},
     "source": [
      "Code the equation itself."
     ]
    },
    {
     "cell_type": "heading",
     "level": 1,
     "metadata": {},
     "source": [
      "Deal with NaN values."
     ]
    }
   ],
   "metadata": {}
  }
 ]
}