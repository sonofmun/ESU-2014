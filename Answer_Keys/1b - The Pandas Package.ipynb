{
 "metadata": {
  "name": "",
  "signature": "sha256:a8ac4e3eb47007fd3f509c55e44b75b7396b146b0f32b776e0fdf278a3b409ff"
 },
 "nbformat": 3,
 "nbformat_minor": 0,
 "worksheets": [
  {
   "cells": [
    {
     "cell_type": "heading",
     "level": 1,
     "metadata": {},
     "source": [
      "A Short Introduction to the Pandas Package"
     ]
    },
    {
     "cell_type": "markdown",
     "metadata": {},
     "source": [
      "`Pandas` is the Python Data Analysis Library from the makers of `scipy`, `numpy`, and `IPython`.  It provides the perfect data structures for textual matrices, the `Series` and the `DataFrame`.  Let's jump right in."
     ]
    },
    {
     "cell_type": "code",
     "collapsed": false,
     "input": [
      "import pandas as pd #the recommended import condition from pandas\n",
      "import numpy as np\n",
      "sentence = 'the dog bit the man' #our first sentence from the presentation\n",
      "token_list = sentence.split()\n",
      "type_list = list(set(token_list)) #we only want each word type listed once\n",
      "print(type_list)"
     ],
     "language": "python",
     "metadata": {},
     "outputs": [
      {
       "output_type": "stream",
       "stream": "stdout",
       "text": [
        "['the', 'man', 'dog', 'bit']\n"
       ]
      }
     ],
     "prompt_number": 36
    },
    {
     "cell_type": "markdown",
     "metadata": {},
     "source": [
      "Now, let's initialize a `Series` with these index labels."
     ]
    },
    {
     "cell_type": "code",
     "collapsed": false,
     "input": [
      "ser1 = pd.Series(index = type_list)\n",
      "print(ser1)"
     ],
     "language": "python",
     "metadata": {},
     "outputs": [
      {
       "output_type": "stream",
       "stream": "stdout",
       "text": [
        "the   NaN\n",
        "man   NaN\n",
        "dog   NaN\n",
        "bit   NaN\n",
        "dtype: float64\n"
       ]
      }
     ],
     "prompt_number": 37
    },
    {
     "cell_type": "markdown",
     "metadata": {},
     "source": [
      "If we want to initialize it with values, we can add do this with the `data` argument or with a dictionary.  First, let's get the counts for each word in the sentence."
     ]
    },
    {
     "cell_type": "code",
     "collapsed": false,
     "input": [
      "count_list = []\n",
      "count_dict = {}\n",
      "for word in type_list:\n",
      "    count_list.append(token_list.count(word))\n",
      "    count_dict[word] = token_list.count(word)\n",
      "print(count_list)\n",
      "print(type_list)\n",
      "print(count_dict)"
     ],
     "language": "python",
     "metadata": {},
     "outputs": [
      {
       "output_type": "stream",
       "stream": "stdout",
       "text": [
        "[2, 1, 1, 1]\n",
        "['the', 'man', 'dog', 'bit']\n",
        "{'the': 2, 'man': 1, 'dog': 1, 'bit': 1}\n"
       ]
      }
     ],
     "prompt_number": 38
    },
    {
     "cell_type": "markdown",
     "metadata": {},
     "source": [
      "Now, we can create our `Series` objects."
     ]
    },
    {
     "cell_type": "code",
     "collapsed": false,
     "input": [
      "ser2 = pd.Series(data = count_list, index = type_list)\n",
      "ser3 = pd.Series(count_dict)\n",
      "print(ser2)\n",
      "print(ser3)"
     ],
     "language": "python",
     "metadata": {},
     "outputs": [
      {
       "output_type": "stream",
       "stream": "stdout",
       "text": [
        "the    2\n",
        "man    1\n",
        "dog    1\n",
        "bit    1\n",
        "dtype: int64\n",
        "bit    1\n",
        "dog    1\n",
        "man    1\n",
        "the    2\n",
        "dtype: int64\n"
       ]
      }
     ],
     "prompt_number": 39
    },
    {
     "cell_type": "markdown",
     "metadata": {},
     "source": [
      "A `Series` is essentially a labelled vector, here a frequency term-document vector.  In order to construct a term-document matrix, we can create another `Series` for our second sentence. "
     ]
    },
    {
     "cell_type": "markdown",
     "metadata": {},
     "source": [
      "__Quiz:__\n",
      "\n",
      "Below, write a short function that takes as its input a string of text and outputs a dictionary of word counts and a term-document Series."
     ]
    },
    {
     "cell_type": "code",
     "collapsed": false,
     "input": [
      "sent2 = 'the bat hit the ball'\n",
      "def td_Series(text):\n",
      "    # insert your code here to create a count dictionary and a term-document vector for sent2\n",
      "    from collections import Counter\n",
      "    d = Counter(text.split())\n",
      "    s = pd.Series(d)\n",
      "    return d, s\n",
      "\n",
      "count_dict2, ser4 = td_Series(sent2)\n",
      "print(count_dict2)\n",
      "ser4"
     ],
     "language": "python",
     "metadata": {},
     "outputs": [
      {
       "output_type": "stream",
       "stream": "stdout",
       "text": [
        "Counter({'the': 2, 'ball': 1, 'hit': 1, 'bat': 1})\n"
       ]
      },
      {
       "metadata": {},
       "output_type": "pyout",
       "prompt_number": 40,
       "text": [
        "ball    1\n",
        "bat     1\n",
        "hit     1\n",
        "the     2\n",
        "dtype: int64"
       ]
      }
     ],
     "prompt_number": 40
    },
    {
     "cell_type": "markdown",
     "metadata": {},
     "source": [
      "At this point, we have two separate Series representing two different term-document vectors.  We can bring them together to create a DataFrame, the primary object type in the Pandas package."
     ]
    },
    {
     "cell_type": "code",
     "collapsed": false,
     "input": [
      "df1 = pd.DataFrame(data = [ser3, ser4], index = ['sent1', 'sent2'])\n",
      "print(df1) \n",
      "# if you don't print the dataframe, it will give you a nice HTML formatted view on the table:\n",
      "df1"
     ],
     "language": "python",
     "metadata": {},
     "outputs": [
      {
       "output_type": "stream",
       "stream": "stdout",
       "text": [
        "       ball  bat  bit  dog  hit  man  the\n",
        "sent1   NaN  NaN    1    1  NaN    1    2\n",
        "sent2     1    1  NaN  NaN    1  NaN    2\n",
        "\n",
        "[2 rows x 7 columns]\n"
       ]
      },
      {
       "html": [
        "<div style=\"max-height:1000px;max-width:1500px;overflow:auto;\">\n",
        "<table border=\"1\" class=\"dataframe\">\n",
        "  <thead>\n",
        "    <tr style=\"text-align: right;\">\n",
        "      <th></th>\n",
        "      <th>ball</th>\n",
        "      <th>bat</th>\n",
        "      <th>bit</th>\n",
        "      <th>dog</th>\n",
        "      <th>hit</th>\n",
        "      <th>man</th>\n",
        "      <th>the</th>\n",
        "    </tr>\n",
        "  </thead>\n",
        "  <tbody>\n",
        "    <tr>\n",
        "      <th>sent1</th>\n",
        "      <td>NaN</td>\n",
        "      <td>NaN</td>\n",
        "      <td>  1</td>\n",
        "      <td>  1</td>\n",
        "      <td>NaN</td>\n",
        "      <td>  1</td>\n",
        "      <td> 2</td>\n",
        "    </tr>\n",
        "    <tr>\n",
        "      <th>sent2</th>\n",
        "      <td>  1</td>\n",
        "      <td>  1</td>\n",
        "      <td>NaN</td>\n",
        "      <td>NaN</td>\n",
        "      <td>  1</td>\n",
        "      <td>NaN</td>\n",
        "      <td> 2</td>\n",
        "    </tr>\n",
        "  </tbody>\n",
        "</table>\n",
        "<p>2 rows \u00d7 7 columns</p>\n",
        "</div>"
       ],
       "metadata": {},
       "output_type": "pyout",
       "prompt_number": 41,
       "text": [
        "       ball  bat  bit  dog  hit  man  the\n",
        "sent1   NaN  NaN    1    1  NaN    1    2\n",
        "sent2     1    1  NaN  NaN    1  NaN    2\n",
        "\n",
        "[2 rows x 7 columns]"
       ]
      }
     ],
     "prompt_number": 41
    },
    {
     "cell_type": "markdown",
     "metadata": {},
     "source": [
      "Notice that we now have a $m \\times n$ term-document matrix.  We could also create the `DataFrame` by calling our `count_dict`s directly.  In this `DataFrame`, let's replace all nan values with 0."
     ]
    },
    {
     "cell_type": "code",
     "collapsed": false,
     "input": [
      "df2 = pd.DataFrame(data = [count_dict, count_dict2], index = ['sent1', 'sent2'])\n",
      "print(df2)\n",
      "df2 = df2.fillna(value = 0)\n",
      "df2"
     ],
     "language": "python",
     "metadata": {},
     "outputs": [
      {
       "output_type": "stream",
       "stream": "stdout",
       "text": [
        "       ball  bat  bit  dog  hit  man  the\n",
        "sent1   NaN  NaN    1    1  NaN    1    2\n",
        "sent2     1    1  NaN  NaN    1  NaN    2\n",
        "\n",
        "[2 rows x 7 columns]\n"
       ]
      },
      {
       "html": [
        "<div style=\"max-height:1000px;max-width:1500px;overflow:auto;\">\n",
        "<table border=\"1\" class=\"dataframe\">\n",
        "  <thead>\n",
        "    <tr style=\"text-align: right;\">\n",
        "      <th></th>\n",
        "      <th>ball</th>\n",
        "      <th>bat</th>\n",
        "      <th>bit</th>\n",
        "      <th>dog</th>\n",
        "      <th>hit</th>\n",
        "      <th>man</th>\n",
        "      <th>the</th>\n",
        "    </tr>\n",
        "  </thead>\n",
        "  <tbody>\n",
        "    <tr>\n",
        "      <th>sent1</th>\n",
        "      <td> 0</td>\n",
        "      <td> 0</td>\n",
        "      <td> 1</td>\n",
        "      <td> 1</td>\n",
        "      <td> 0</td>\n",
        "      <td> 1</td>\n",
        "      <td> 2</td>\n",
        "    </tr>\n",
        "    <tr>\n",
        "      <th>sent2</th>\n",
        "      <td> 1</td>\n",
        "      <td> 1</td>\n",
        "      <td> 0</td>\n",
        "      <td> 0</td>\n",
        "      <td> 1</td>\n",
        "      <td> 0</td>\n",
        "      <td> 2</td>\n",
        "    </tr>\n",
        "  </tbody>\n",
        "</table>\n",
        "<p>2 rows \u00d7 7 columns</p>\n",
        "</div>"
       ],
       "metadata": {},
       "output_type": "pyout",
       "prompt_number": 42,
       "text": [
        "       ball  bat  bit  dog  hit  man  the\n",
        "sent1     0    0    1    1    0    1    2\n",
        "sent2     1    1    0    0    1    0    2\n",
        "\n",
        "[2 rows x 7 columns]"
       ]
      }
     ],
     "prompt_number": 42
    },
    {
     "cell_type": "markdown",
     "metadata": {},
     "source": [
      "And now we can call values simply by naming the row, column name pairs.  Name the row first, then the column."
     ]
    },
    {
     "cell_type": "code",
     "collapsed": false,
     "input": [
      "print(df1.ix['sent1', 'ball'])\n",
      "print(df1.ix['sent2', 'ball'])\n",
      "print(df2.ix['sent1', 'ball'])\n",
      "print(df2.ix['sent2', 'ball'])\n",
      "# or do it like this: \n",
      "df1.ball.sent1\n",
      "df1"
     ],
     "language": "python",
     "metadata": {},
     "outputs": [
      {
       "output_type": "stream",
       "stream": "stdout",
       "text": [
        "nan\n",
        "1.0\n",
        "0.0\n",
        "1.0\n"
       ]
      },
      {
       "html": [
        "<div style=\"max-height:1000px;max-width:1500px;overflow:auto;\">\n",
        "<table border=\"1\" class=\"dataframe\">\n",
        "  <thead>\n",
        "    <tr style=\"text-align: right;\">\n",
        "      <th></th>\n",
        "      <th>ball</th>\n",
        "      <th>bat</th>\n",
        "      <th>bit</th>\n",
        "      <th>dog</th>\n",
        "      <th>hit</th>\n",
        "      <th>man</th>\n",
        "      <th>the</th>\n",
        "    </tr>\n",
        "  </thead>\n",
        "  <tbody>\n",
        "    <tr>\n",
        "      <th>sent1</th>\n",
        "      <td>NaN</td>\n",
        "      <td>NaN</td>\n",
        "      <td>  1</td>\n",
        "      <td>  1</td>\n",
        "      <td>NaN</td>\n",
        "      <td>  1</td>\n",
        "      <td> 2</td>\n",
        "    </tr>\n",
        "    <tr>\n",
        "      <th>sent2</th>\n",
        "      <td>  1</td>\n",
        "      <td>  1</td>\n",
        "      <td>NaN</td>\n",
        "      <td>NaN</td>\n",
        "      <td>  1</td>\n",
        "      <td>NaN</td>\n",
        "      <td> 2</td>\n",
        "    </tr>\n",
        "  </tbody>\n",
        "</table>\n",
        "<p>2 rows \u00d7 7 columns</p>\n",
        "</div>"
       ],
       "metadata": {},
       "output_type": "pyout",
       "prompt_number": 43,
       "text": [
        "       ball  bat  bit  dog  hit  man  the\n",
        "sent1   NaN  NaN    1    1  NaN    1    2\n",
        "sent2     1    1  NaN  NaN    1  NaN    2\n",
        "\n",
        "[2 rows x 7 columns]"
       ]
      }
     ],
     "prompt_number": 43
    },
    {
     "cell_type": "markdown",
     "metadata": {},
     "source": [
      "We can also call them by their row and column indices. Again, first row, then column. "
     ]
    },
    {
     "cell_type": "code",
     "collapsed": false,
     "input": [
      "df1.ix[0,0]"
     ],
     "language": "python",
     "metadata": {},
     "outputs": [
      {
       "metadata": {},
       "output_type": "pyout",
       "prompt_number": 44,
       "text": [
        "nan"
       ]
      }
     ],
     "prompt_number": 44
    },
    {
     "cell_type": "code",
     "collapsed": false,
     "input": [
      "df1.ix[1,0]"
     ],
     "language": "python",
     "metadata": {},
     "outputs": [
      {
       "metadata": {},
       "output_type": "pyout",
       "prompt_number": 45,
       "text": [
        "1.0"
       ]
      }
     ],
     "prompt_number": 45
    },
    {
     "cell_type": "code",
     "collapsed": false,
     "input": [
      "df2.ix[0,0]"
     ],
     "language": "python",
     "metadata": {},
     "outputs": [
      {
       "metadata": {},
       "output_type": "pyout",
       "prompt_number": 46,
       "text": [
        "0.0"
       ]
      }
     ],
     "prompt_number": 46
    },
    {
     "cell_type": "code",
     "collapsed": false,
     "input": [
      "df2.ix[1,0]"
     ],
     "language": "python",
     "metadata": {},
     "outputs": [
      {
       "metadata": {},
       "output_type": "pyout",
       "prompt_number": 47,
       "text": [
        "1.0"
       ]
      }
     ],
     "prompt_number": 47
    },
    {
     "cell_type": "code",
     "collapsed": false,
     "input": [
      "df2.ix[0]"
     ],
     "language": "python",
     "metadata": {},
     "outputs": [
      {
       "metadata": {},
       "output_type": "pyout",
       "prompt_number": 48,
       "text": [
        "ball    0\n",
        "bat     0\n",
        "bit     1\n",
        "dog     1\n",
        "hit     0\n",
        "man     1\n",
        "the     2\n",
        "Name: sent1, dtype: float64"
       ]
      }
     ],
     "prompt_number": 48
    },
    {
     "cell_type": "code",
     "collapsed": false,
     "input": [
      "df2.index"
     ],
     "language": "python",
     "metadata": {},
     "outputs": [
      {
       "metadata": {},
       "output_type": "pyout",
       "prompt_number": 49,
       "text": [
        "Index(['sent1', 'sent2'], dtype='object')"
       ]
      }
     ],
     "prompt_number": 49
    },
    {
     "cell_type": "code",
     "collapsed": false,
     "input": [
      "df2.values # which will return a numpy 2d array"
     ],
     "language": "python",
     "metadata": {},
     "outputs": [
      {
       "metadata": {},
       "output_type": "pyout",
       "prompt_number": 50,
       "text": [
        "array([[ 0.,  0.,  1.,  1.,  0.,  1.,  2.],\n",
        "       [ 1.,  1.,  0.,  0.,  1.,  0.,  2.]])"
       ]
      }
     ],
     "prompt_number": 50
    },
    {
     "cell_type": "markdown",
     "metadata": {},
     "source": [
      "Below are a few other things you can do with a DataFrame."
     ]
    },
    {
     "cell_type": "code",
     "collapsed": false,
     "input": [
      "df2.min(axis = 0)"
     ],
     "language": "python",
     "metadata": {},
     "outputs": [
      {
       "metadata": {},
       "output_type": "pyout",
       "prompt_number": 51,
       "text": [
        "ball    0\n",
        "bat     0\n",
        "bit     0\n",
        "dog     0\n",
        "hit     0\n",
        "man     0\n",
        "the     2\n",
        "dtype: float64"
       ]
      }
     ],
     "prompt_number": 51
    },
    {
     "cell_type": "code",
     "collapsed": false,
     "input": [
      "df2.min(axis = 1)"
     ],
     "language": "python",
     "metadata": {},
     "outputs": [
      {
       "metadata": {},
       "output_type": "pyout",
       "prompt_number": 52,
       "text": [
        "sent1    0\n",
        "sent2    0\n",
        "dtype: float64"
       ]
      }
     ],
     "prompt_number": 52
    },
    {
     "cell_type": "code",
     "collapsed": false,
     "input": [
      "np.min(df2, axis = 1) # numpy function works but is slightly slower"
     ],
     "language": "python",
     "metadata": {},
     "outputs": [
      {
       "metadata": {},
       "output_type": "pyout",
       "prompt_number": 53,
       "text": [
        "sent1    0\n",
        "sent2    0\n",
        "dtype: float64"
       ]
      }
     ],
     "prompt_number": 53
    },
    {
     "cell_type": "code",
     "collapsed": false,
     "input": [
      "df2.max(axis = 1)"
     ],
     "language": "python",
     "metadata": {},
     "outputs": [
      {
       "metadata": {},
       "output_type": "pyout",
       "prompt_number": 54,
       "text": [
        "sent1    2\n",
        "sent2    2\n",
        "dtype: float64"
       ]
      }
     ],
     "prompt_number": 54
    },
    {
     "cell_type": "code",
     "collapsed": false,
     "input": [
      "df2.idxmin(axis = 1) # index of the min"
     ],
     "language": "python",
     "metadata": {},
     "outputs": [
      {
       "metadata": {},
       "output_type": "pyout",
       "prompt_number": 55,
       "text": [
        "sent1    ball\n",
        "sent2     bit\n",
        "dtype: object"
       ]
      }
     ],
     "prompt_number": 55
    },
    {
     "cell_type": "code",
     "collapsed": false,
     "input": [
      "df2.idxmax(axis = 1) # index of the max"
     ],
     "language": "python",
     "metadata": {},
     "outputs": [
      {
       "metadata": {},
       "output_type": "pyout",
       "prompt_number": 56,
       "text": [
        "sent1    the\n",
        "sent2    the\n",
        "dtype: object"
       ]
      }
     ],
     "prompt_number": 56
    },
    {
     "cell_type": "code",
     "collapsed": false,
     "input": [
      "df2.values.max() # max of all of the values"
     ],
     "language": "python",
     "metadata": {},
     "outputs": [
      {
       "metadata": {},
       "output_type": "pyout",
       "prompt_number": 57,
       "text": [
        "2.0"
       ]
      }
     ],
     "prompt_number": 57
    },
    {
     "cell_type": "markdown",
     "metadata": {},
     "source": [
      "And simple statistics."
     ]
    },
    {
     "cell_type": "code",
     "collapsed": false,
     "input": [
      "df2.describe()"
     ],
     "language": "python",
     "metadata": {},
     "outputs": [
      {
       "html": [
        "<div style=\"max-height:1000px;max-width:1500px;overflow:auto;\">\n",
        "<table border=\"1\" class=\"dataframe\">\n",
        "  <thead>\n",
        "    <tr style=\"text-align: right;\">\n",
        "      <th></th>\n",
        "      <th>ball</th>\n",
        "      <th>bat</th>\n",
        "      <th>bit</th>\n",
        "      <th>dog</th>\n",
        "      <th>hit</th>\n",
        "      <th>man</th>\n",
        "      <th>the</th>\n",
        "    </tr>\n",
        "  </thead>\n",
        "  <tbody>\n",
        "    <tr>\n",
        "      <th>count</th>\n",
        "      <td> 2.000000</td>\n",
        "      <td> 2.000000</td>\n",
        "      <td> 2.000000</td>\n",
        "      <td> 2.000000</td>\n",
        "      <td> 2.000000</td>\n",
        "      <td> 2.000000</td>\n",
        "      <td> 2</td>\n",
        "    </tr>\n",
        "    <tr>\n",
        "      <th>mean</th>\n",
        "      <td> 0.500000</td>\n",
        "      <td> 0.500000</td>\n",
        "      <td> 0.500000</td>\n",
        "      <td> 0.500000</td>\n",
        "      <td> 0.500000</td>\n",
        "      <td> 0.500000</td>\n",
        "      <td> 2</td>\n",
        "    </tr>\n",
        "    <tr>\n",
        "      <th>std</th>\n",
        "      <td> 0.707107</td>\n",
        "      <td> 0.707107</td>\n",
        "      <td> 0.707107</td>\n",
        "      <td> 0.707107</td>\n",
        "      <td> 0.707107</td>\n",
        "      <td> 0.707107</td>\n",
        "      <td> 0</td>\n",
        "    </tr>\n",
        "    <tr>\n",
        "      <th>min</th>\n",
        "      <td> 0.000000</td>\n",
        "      <td> 0.000000</td>\n",
        "      <td> 0.000000</td>\n",
        "      <td> 0.000000</td>\n",
        "      <td> 0.000000</td>\n",
        "      <td> 0.000000</td>\n",
        "      <td> 2</td>\n",
        "    </tr>\n",
        "    <tr>\n",
        "      <th>25%</th>\n",
        "      <td> 0.250000</td>\n",
        "      <td> 0.250000</td>\n",
        "      <td> 0.250000</td>\n",
        "      <td> 0.250000</td>\n",
        "      <td> 0.250000</td>\n",
        "      <td> 0.250000</td>\n",
        "      <td> 2</td>\n",
        "    </tr>\n",
        "    <tr>\n",
        "      <th>50%</th>\n",
        "      <td> 0.500000</td>\n",
        "      <td> 0.500000</td>\n",
        "      <td> 0.500000</td>\n",
        "      <td> 0.500000</td>\n",
        "      <td> 0.500000</td>\n",
        "      <td> 0.500000</td>\n",
        "      <td> 2</td>\n",
        "    </tr>\n",
        "    <tr>\n",
        "      <th>75%</th>\n",
        "      <td> 0.750000</td>\n",
        "      <td> 0.750000</td>\n",
        "      <td> 0.750000</td>\n",
        "      <td> 0.750000</td>\n",
        "      <td> 0.750000</td>\n",
        "      <td> 0.750000</td>\n",
        "      <td> 2</td>\n",
        "    </tr>\n",
        "    <tr>\n",
        "      <th>max</th>\n",
        "      <td> 1.000000</td>\n",
        "      <td> 1.000000</td>\n",
        "      <td> 1.000000</td>\n",
        "      <td> 1.000000</td>\n",
        "      <td> 1.000000</td>\n",
        "      <td> 1.000000</td>\n",
        "      <td> 2</td>\n",
        "    </tr>\n",
        "  </tbody>\n",
        "</table>\n",
        "<p>8 rows \u00d7 7 columns</p>\n",
        "</div>"
       ],
       "metadata": {},
       "output_type": "pyout",
       "prompt_number": 58,
       "text": [
        "           ball       bat       bit       dog       hit       man  the\n",
        "count  2.000000  2.000000  2.000000  2.000000  2.000000  2.000000    2\n",
        "mean   0.500000  0.500000  0.500000  0.500000  0.500000  0.500000    2\n",
        "std    0.707107  0.707107  0.707107  0.707107  0.707107  0.707107    0\n",
        "min    0.000000  0.000000  0.000000  0.000000  0.000000  0.000000    2\n",
        "25%    0.250000  0.250000  0.250000  0.250000  0.250000  0.250000    2\n",
        "50%    0.500000  0.500000  0.500000  0.500000  0.500000  0.500000    2\n",
        "75%    0.750000  0.750000  0.750000  0.750000  0.750000  0.750000    2\n",
        "max    1.000000  1.000000  1.000000  1.000000  1.000000  1.000000    2\n",
        "\n",
        "[8 rows x 7 columns]"
       ]
      }
     ],
     "prompt_number": 58
    },
    {
     "cell_type": "code",
     "collapsed": false,
     "input": [
      "df2.mean(axis = 1)"
     ],
     "language": "python",
     "metadata": {},
     "outputs": [
      {
       "metadata": {},
       "output_type": "pyout",
       "prompt_number": 59,
       "text": [
        "sent1    0.714286\n",
        "sent2    0.714286\n",
        "dtype: float64"
       ]
      }
     ],
     "prompt_number": 59
    },
    {
     "cell_type": "code",
     "collapsed": false,
     "input": [
      "df2.ix['sent1'].mean()"
     ],
     "language": "python",
     "metadata": {},
     "outputs": [
      {
       "metadata": {},
       "output_type": "pyout",
       "prompt_number": 60,
       "text": [
        "0.7142857142857143"
       ]
      }
     ],
     "prompt_number": 60
    },
    {
     "cell_type": "code",
     "collapsed": false,
     "input": [
      "df2.std(axis = 1) # standard deviation"
     ],
     "language": "python",
     "metadata": {},
     "outputs": [
      {
       "metadata": {},
       "output_type": "pyout",
       "prompt_number": 61,
       "text": [
        "sent1    0.755929\n",
        "sent2    0.755929\n",
        "dtype: float64"
       ]
      }
     ],
     "prompt_number": 61
    },
    {
     "cell_type": "markdown",
     "metadata": {},
     "source": [
      "Now, what can we do with this?  We can use, e.g., the correlation metric in Pandas."
     ]
    },
    {
     "cell_type": "code",
     "collapsed": false,
     "input": [
      "df2.irow(0).corr(df2.irow(1))"
     ],
     "language": "python",
     "metadata": {},
     "outputs": [
      {
       "metadata": {},
       "output_type": "pyout",
       "prompt_number": 62,
       "text": [
        "0.12499999999999988"
       ]
      }
     ],
     "prompt_number": 62
    },
    {
     "cell_type": "markdown",
     "metadata": {},
     "source": [
      "Or, if we have the `scikit-learn` package, there is a lot more we can do.</br>"
     ]
    },
    {
     "cell_type": "markdown",
     "metadata": {},
     "source": [
      "__Note: to install scikit-learn on Linux with Python 3.4, use the following command:</br>\n",
      "`[sudo] pip3 install git+https://github.com/scikit-learn/scikit-learn.git`.__"
     ]
    },
    {
     "cell_type": "markdown",
     "metadata": {},
     "source": [
      "The _tf-idf_ metric stands for 'term frequency-inverse document frequency'.  It weights the importance each word has for each document based on how often it occurs in the document and the inverse of how many documents contain it in the corpus."
     ]
    },
    {
     "cell_type": "code",
     "collapsed": false,
     "input": [
      "tf"
     ],
     "language": "python",
     "metadata": {},
     "outputs": [
      {
       "output_type": "stream",
       "stream": "stdout",
       "text": [
        "           ball       bat       bit       dog       hit       man       the\n",
        "sent1  0.000000  0.000000  0.446101  0.446101  0.000000  0.446101  0.634809\n",
        "sent2  0.446101  0.446101  0.000000  0.000000  0.446101  0.000000  0.634809\n",
        "\n",
        "[2 rows x 7 columns]\n"
       ]
      }
     ],
     "prompt_number": 63
    },
    {
     "cell_type": "markdown",
     "metadata": {},
     "source": [
      "You can also measure the distance between two documents with the `pairwise_distances` function in `sklearn`."
     ]
    },
    {
     "cell_type": "code",
     "collapsed": false,
     "input": [
      "from sklearn.metrics.pairwise import pairwise_distances\n",
      "euclid = pairwise_distances(df2) #Euclidean distance between the two documents.\n",
      "df_euclid = pd.DataFrame(data = euclid, index = df2.index, columns = df2.index)\n",
      "print(df_euclid)"
     ],
     "language": "python",
     "metadata": {},
     "outputs": []
    },
    {
     "cell_type": "heading",
     "level": 4,
     "metadata": {},
     "source": [
      "Quiz:<br>\n",
      "Now its your turn.  There are many texts in the `Data` sub-directory in this directory.  Write a function that takes as input a text file's path, reads the text from the file, splits it into its individual words, and returns a Series with the word types (i.e., unique words) as the index and the number of times they occur as the values."
     ]
    },
    {
     "cell_type": "code",
     "collapsed": false,
     "input": [
      "def split_txt(filename):\n",
      "    # write your code here\n",
      "    words = []\n",
      "    [words.append(word) for word in (open(filename)).read().split()]\n",
      "    s = pd.Series(Counter(words))\n",
      "    return s\n",
      "\n",
      "emma_Series = split_txt('./Data/austen-emma.txt')\n",
      "print(emma_Series[:20])"
     ],
     "language": "python",
     "metadata": {},
     "outputs": [
      {
       "output_type": "stream",
       "stream": "stdout",
       "text": [
        "\"'Tis              1\n",
        "\"--Mrs.            1\n",
        "\"A                13\n",
        "\"A.                1\n",
        "\"About             1\n",
        "\"Agreed,           1\n",
        "\"Ah!              27\n",
        "\"Ah!\"              3\n",
        "\"Ah!--(shaking     1\n",
        "\"Ah!--Indeed       1\n",
        "\"Ah!--so           1\n",
        "\"Ah!--well--to     1\n",
        "\"Ah,               2\n",
        "\"Almost            1\n",
        "\"And              45\n",
        "\"And,              3\n",
        "\"Another           1\n",
        "\"Are               4\n",
        "\"As                8\n",
        "\"At                1\n",
        "dtype: int64\n"
       ]
      }
     ],
     "prompt_number": 20
    },
    {
     "cell_type": "markdown",
     "metadata": {},
     "source": [
      "Take a look at the first 20 members of the Series.  It looks like we have a couple of problems: capitalization and punctuation.  Edit your function below to solve these problems.<br>\n",
      "Hint: use the `punctuation` constant in the `string` library to recognize punctuation."
     ]
    },
    {
     "cell_type": "code",
     "collapsed": false,
     "input": [
      "from string import punctuation\n",
      "import re\n",
      "def split_txt(filename):\n",
      "    # write your code here\n",
      "    words = []\n",
      "    [words.append(word.lower()) for word in (open(filename)).read().split()]\n",
      "    new_words = []\n",
      "    for word in words:\n",
      "        [new_words.append(w) for w in re.split('[%s]+' % punctuation, word) if w != '']\n",
      "    s = pd.Series(Counter(new_words))\n",
      "    return s\n",
      "\n",
      "emma_Series = split_txt('./Data/austen-emma.txt')\n",
      "'''\n",
      "The following code checks whether you have successfully cleaned your corpus.\n",
      "Please do not change it.\n",
      "'''\n",
      "problems = []\n",
      "for word in emma_Series.index:\n",
      "    if re.search('[\\WA-Z]', word):\n",
      "        problems.append(word)\n",
      "print(len(problems))"
     ],
     "language": "python",
     "metadata": {},
     "outputs": [
      {
       "output_type": "stream",
       "stream": "stdout",
       "text": [
        "0\n"
       ]
      }
     ],
     "prompt_number": 34
    },
    {
     "cell_type": "markdown",
     "metadata": {},
     "source": [
      "If the length of the `problems` list is not 0, then you are not yet finished.  Take a look at your results to check what you did wrong and edit your code to correct the problem."
     ]
    },
    {
     "cell_type": "markdown",
     "metadata": {},
     "source": [
      "You now have a function that can take a text, clean it, and produce a term-document array (Series).  Now, you should integrate this function into a script that will read and clean all the texts in the `./Data` folder.  You should then integrate all of the resulting Series into one large term-document matrix.  Transform this matrix into a _tf-idf_ matrix, and then run at least 5 of the metrics under `pairwise_distances` in __sklearn__.  "
     ]
    },
    {
     "cell_type": "code",
     "collapsed": false,
     "input": [
      "pw_list[0].shape"
     ],
     "language": "python",
     "metadata": {},
     "outputs": [
      {
       "metadata": {},
       "output_type": "pyout",
       "prompt_number": 84,
       "text": [
        "(18, 18)"
       ]
      }
     ],
     "prompt_number": 84
    },
    {
     "cell_type": "code",
     "collapsed": false,
     "input": [
      "#Write your code here or in a separate .py file. __Make sure I know where to find your file!__\n",
      "from os import listdir\n",
      "from sklearn.metrics.pairwise import pairwise_distances\n",
      "\n",
      "texts = listdir('./Data')\n",
      "s_list = []\n",
      "for f in texts:\n",
      "    s_list.append(split_txt('/'.join(['./Data', f])))\n",
      "td_df = pd.DataFrame(s_list, index = texts).fillna(0)\n",
      "tfidf = TfidfTransformer().fit_transform(td_df)\n",
      "tf_df = pd.DataFrame(data = tfidf.toarray(), index = td_df.index, columns = td_df.columns)\n",
      "pw = ['cityblock', 'cosine', 'euclidean', 'l1', 'l2', 'manhattan']\n",
      "pw_list = []\n",
      "for distance in pw:\n",
      "    pw_list.append(pd.DataFrame(pairwise_distances(tf_df, metric = distance), index = td_df.index, columns = td_df.index))"
     ],
     "language": "python",
     "metadata": {},
     "outputs": [],
     "prompt_number": 90
    },
    {
     "cell_type": "code",
     "collapsed": false,
     "input": [
      "pw_list[0]"
     ],
     "language": "python",
     "metadata": {},
     "outputs": [
      {
       "html": [
        "<div style=\"max-height:1000px;max-width:1500px;overflow:auto;\">\n",
        "<table border=\"1\" class=\"dataframe\">\n",
        "  <thead>\n",
        "    <tr style=\"text-align: right;\">\n",
        "      <th></th>\n",
        "      <th>austen-emma.txt</th>\n",
        "      <th>austen-pride.txt</th>\n",
        "      <th>austen-sense.txt</th>\n",
        "      <th>blake-poems.txt</th>\n",
        "      <th>blake-songs.txt</th>\n",
        "      <th>bryant-stories.txt</th>\n",
        "      <th>burgess-busterbrown.txt</th>\n",
        "      <th>carroll-alice.txt</th>\n",
        "      <th>chesterton-ball.txt</th>\n",
        "      <th>chesterton-thursday.txt</th>\n",
        "      <th>edgeworth-parents.txt</th>\n",
        "      <th>melville-piazza.txt</th>\n",
        "      <th>milton-paradise.txt</th>\n",
        "      <th>shakespeare-caesar.txt</th>\n",
        "      <th>shakespeare-hamlet.txt</th>\n",
        "      <th>whitman-leaves.txt</th>\n",
        "      <th>whitman-patriotic.txt</th>\n",
        "      <th>whitman-poems.txt</th>\n",
        "    </tr>\n",
        "  </thead>\n",
        "  <tbody>\n",
        "    <tr>\n",
        "      <th>austen-emma.txt</th>\n",
        "      <td> 0.000000</td>\n",
        "      <td> 3.288201</td>\n",
        "      <td> 3.566582</td>\n",
        "      <td> 7.661250</td>\n",
        "      <td> 8.367434</td>\n",
        "      <td> 6.096018</td>\n",
        "      <td>  7.603400</td>\n",
        "      <td> 5.444131</td>\n",
        "      <td> 6.326319</td>\n",
        "      <td> 6.201457</td>\n",
        "      <td> 4.645956</td>\n",
        "      <td> 6.391522</td>\n",
        "      <td> 7.519463</td>\n",
        "      <td>  8.404147</td>\n",
        "      <td> 8.222136</td>\n",
        "      <td> 7.143307</td>\n",
        "      <td> 7.895257</td>\n",
        "      <td> 6.812605</td>\n",
        "    </tr>\n",
        "    <tr>\n",
        "      <th>austen-pride.txt</th>\n",
        "      <td> 3.288201</td>\n",
        "      <td> 0.000000</td>\n",
        "      <td> 3.165094</td>\n",
        "      <td> 7.658955</td>\n",
        "      <td> 8.341250</td>\n",
        "      <td> 6.172412</td>\n",
        "      <td>  7.765804</td>\n",
        "      <td> 5.639749</td>\n",
        "      <td> 6.350296</td>\n",
        "      <td> 6.194565</td>\n",
        "      <td> 4.667239</td>\n",
        "      <td> 6.324388</td>\n",
        "      <td> 7.421961</td>\n",
        "      <td>  8.526162</td>\n",
        "      <td> 8.319700</td>\n",
        "      <td> 7.276798</td>\n",
        "      <td> 7.911180</td>\n",
        "      <td> 6.912907</td>\n",
        "    </tr>\n",
        "    <tr>\n",
        "      <th>austen-sense.txt</th>\n",
        "      <td> 3.566582</td>\n",
        "      <td> 3.165094</td>\n",
        "      <td> 0.000000</td>\n",
        "      <td> 7.847731</td>\n",
        "      <td> 8.510762</td>\n",
        "      <td> 6.357429</td>\n",
        "      <td>  7.892954</td>\n",
        "      <td> 5.829724</td>\n",
        "      <td> 6.489275</td>\n",
        "      <td> 6.406903</td>\n",
        "      <td> 4.970503</td>\n",
        "      <td> 6.508285</td>\n",
        "      <td> 7.600019</td>\n",
        "      <td>  8.837961</td>\n",
        "      <td> 8.608563</td>\n",
        "      <td> 7.424410</td>\n",
        "      <td> 8.033736</td>\n",
        "      <td> 7.024481</td>\n",
        "    </tr>\n",
        "    <tr>\n",
        "      <th>blake-poems.txt</th>\n",
        "      <td> 7.661250</td>\n",
        "      <td> 7.658955</td>\n",
        "      <td> 7.847731</td>\n",
        "      <td> 0.000000</td>\n",
        "      <td> 2.462204</td>\n",
        "      <td> 6.387832</td>\n",
        "      <td>  8.630030</td>\n",
        "      <td> 6.426081</td>\n",
        "      <td> 7.636606</td>\n",
        "      <td> 7.382237</td>\n",
        "      <td> 6.725573</td>\n",
        "      <td> 7.631571</td>\n",
        "      <td> 7.082840</td>\n",
        "      <td>  8.394294</td>\n",
        "      <td> 8.279731</td>\n",
        "      <td> 6.736105</td>\n",
        "      <td> 6.943236</td>\n",
        "      <td> 6.794078</td>\n",
        "    </tr>\n",
        "    <tr>\n",
        "      <th>blake-songs.txt</th>\n",
        "      <td> 8.367434</td>\n",
        "      <td> 8.341250</td>\n",
        "      <td> 8.510762</td>\n",
        "      <td> 2.462204</td>\n",
        "      <td> 0.000000</td>\n",
        "      <td> 6.951202</td>\n",
        "      <td>  9.157712</td>\n",
        "      <td> 7.156909</td>\n",
        "      <td> 8.215776</td>\n",
        "      <td> 7.997589</td>\n",
        "      <td> 7.490014</td>\n",
        "      <td> 8.296710</td>\n",
        "      <td> 7.847015</td>\n",
        "      <td>  9.139360</td>\n",
        "      <td> 9.040926</td>\n",
        "      <td> 7.464442</td>\n",
        "      <td> 7.633758</td>\n",
        "      <td> 7.447729</td>\n",
        "    </tr>\n",
        "    <tr>\n",
        "      <th>bryant-stories.txt</th>\n",
        "      <td> 6.096018</td>\n",
        "      <td> 6.172412</td>\n",
        "      <td> 6.357429</td>\n",
        "      <td> 6.387832</td>\n",
        "      <td> 6.951202</td>\n",
        "      <td> 0.000000</td>\n",
        "      <td>  6.485495</td>\n",
        "      <td> 4.692564</td>\n",
        "      <td> 5.674748</td>\n",
        "      <td> 5.490166</td>\n",
        "      <td> 4.878074</td>\n",
        "      <td> 6.199281</td>\n",
        "      <td> 7.127346</td>\n",
        "      <td>  8.253450</td>\n",
        "      <td> 8.027359</td>\n",
        "      <td> 6.288505</td>\n",
        "      <td> 6.790038</td>\n",
        "      <td> 6.111640</td>\n",
        "    </tr>\n",
        "    <tr>\n",
        "      <th>burgess-busterbrown.txt</th>\n",
        "      <td> 7.603400</td>\n",
        "      <td> 7.765804</td>\n",
        "      <td> 7.892954</td>\n",
        "      <td> 8.630030</td>\n",
        "      <td> 9.157712</td>\n",
        "      <td> 6.485495</td>\n",
        "      <td>  0.000000</td>\n",
        "      <td> 6.418385</td>\n",
        "      <td> 7.740942</td>\n",
        "      <td> 7.570074</td>\n",
        "      <td> 7.094584</td>\n",
        "      <td> 8.431711</td>\n",
        "      <td> 9.261794</td>\n",
        "      <td> 10.027637</td>\n",
        "      <td> 9.925509</td>\n",
        "      <td> 8.904495</td>\n",
        "      <td> 9.262020</td>\n",
        "      <td> 8.639101</td>\n",
        "    </tr>\n",
        "    <tr>\n",
        "      <th>carroll-alice.txt</th>\n",
        "      <td> 5.444131</td>\n",
        "      <td> 5.639749</td>\n",
        "      <td> 5.829724</td>\n",
        "      <td> 6.426081</td>\n",
        "      <td> 7.156909</td>\n",
        "      <td> 4.692564</td>\n",
        "      <td>  6.418385</td>\n",
        "      <td> 0.000000</td>\n",
        "      <td> 5.713795</td>\n",
        "      <td> 5.485762</td>\n",
        "      <td> 4.476264</td>\n",
        "      <td> 6.066462</td>\n",
        "      <td> 7.187318</td>\n",
        "      <td>  7.720126</td>\n",
        "      <td> 7.491514</td>\n",
        "      <td> 6.521824</td>\n",
        "      <td> 6.966587</td>\n",
        "      <td> 6.354041</td>\n",
        "    </tr>\n",
        "    <tr>\n",
        "      <th>chesterton-ball.txt</th>\n",
        "      <td> 6.326319</td>\n",
        "      <td> 6.350296</td>\n",
        "      <td> 6.489275</td>\n",
        "      <td> 7.636606</td>\n",
        "      <td> 8.215776</td>\n",
        "      <td> 5.674748</td>\n",
        "      <td>  7.740942</td>\n",
        "      <td> 5.713795</td>\n",
        "      <td> 0.000000</td>\n",
        "      <td> 4.138554</td>\n",
        "      <td> 5.616351</td>\n",
        "      <td> 6.005574</td>\n",
        "      <td> 7.538391</td>\n",
        "      <td>  9.049477</td>\n",
        "      <td> 8.765573</td>\n",
        "      <td> 6.658022</td>\n",
        "      <td> 7.352344</td>\n",
        "      <td> 6.375852</td>\n",
        "    </tr>\n",
        "    <tr>\n",
        "      <th>chesterton-thursday.txt</th>\n",
        "      <td> 6.201457</td>\n",
        "      <td> 6.194565</td>\n",
        "      <td> 6.406903</td>\n",
        "      <td> 7.382237</td>\n",
        "      <td> 7.997589</td>\n",
        "      <td> 5.490166</td>\n",
        "      <td>  7.570074</td>\n",
        "      <td> 5.485762</td>\n",
        "      <td> 4.138554</td>\n",
        "      <td> 0.000000</td>\n",
        "      <td> 5.451512</td>\n",
        "      <td> 5.975628</td>\n",
        "      <td> 7.528025</td>\n",
        "      <td>  8.762982</td>\n",
        "      <td> 8.557727</td>\n",
        "      <td> 6.663544</td>\n",
        "      <td> 7.285691</td>\n",
        "      <td> 6.419817</td>\n",
        "    </tr>\n",
        "    <tr>\n",
        "      <th>edgeworth-parents.txt</th>\n",
        "      <td> 4.645956</td>\n",
        "      <td> 4.667239</td>\n",
        "      <td> 4.970503</td>\n",
        "      <td> 6.725573</td>\n",
        "      <td> 7.490014</td>\n",
        "      <td> 4.878074</td>\n",
        "      <td>  7.094584</td>\n",
        "      <td> 4.476264</td>\n",
        "      <td> 5.616351</td>\n",
        "      <td> 5.451512</td>\n",
        "      <td> 0.000000</td>\n",
        "      <td> 5.688283</td>\n",
        "      <td> 6.799950</td>\n",
        "      <td>  7.425381</td>\n",
        "      <td> 7.205691</td>\n",
        "      <td> 6.385568</td>\n",
        "      <td> 7.125479</td>\n",
        "      <td> 6.157757</td>\n",
        "    </tr>\n",
        "    <tr>\n",
        "      <th>melville-piazza.txt</th>\n",
        "      <td> 6.391522</td>\n",
        "      <td> 6.324388</td>\n",
        "      <td> 6.508285</td>\n",
        "      <td> 7.631571</td>\n",
        "      <td> 8.296710</td>\n",
        "      <td> 6.199281</td>\n",
        "      <td>  8.431711</td>\n",
        "      <td> 6.066462</td>\n",
        "      <td> 6.005574</td>\n",
        "      <td> 5.975628</td>\n",
        "      <td> 5.688283</td>\n",
        "      <td> 0.000000</td>\n",
        "      <td> 6.982115</td>\n",
        "      <td>  8.878817</td>\n",
        "      <td> 8.635799</td>\n",
        "      <td> 6.421391</td>\n",
        "      <td> 7.244879</td>\n",
        "      <td> 6.227169</td>\n",
        "    </tr>\n",
        "    <tr>\n",
        "      <th>milton-paradise.txt</th>\n",
        "      <td> 7.519463</td>\n",
        "      <td> 7.421961</td>\n",
        "      <td> 7.600019</td>\n",
        "      <td> 7.082840</td>\n",
        "      <td> 7.847015</td>\n",
        "      <td> 7.127346</td>\n",
        "      <td>  9.261794</td>\n",
        "      <td> 7.187318</td>\n",
        "      <td> 7.538391</td>\n",
        "      <td> 7.528025</td>\n",
        "      <td> 6.799950</td>\n",
        "      <td> 6.982115</td>\n",
        "      <td> 0.000000</td>\n",
        "      <td>  8.706739</td>\n",
        "      <td> 8.480747</td>\n",
        "      <td> 6.671297</td>\n",
        "      <td> 7.274864</td>\n",
        "      <td> 6.679432</td>\n",
        "    </tr>\n",
        "    <tr>\n",
        "      <th>shakespeare-caesar.txt</th>\n",
        "      <td> 8.404147</td>\n",
        "      <td> 8.526162</td>\n",
        "      <td> 8.837961</td>\n",
        "      <td> 8.394294</td>\n",
        "      <td> 9.139360</td>\n",
        "      <td> 8.253450</td>\n",
        "      <td> 10.027637</td>\n",
        "      <td> 7.720126</td>\n",
        "      <td> 9.049477</td>\n",
        "      <td> 8.762982</td>\n",
        "      <td> 7.425381</td>\n",
        "      <td> 8.878817</td>\n",
        "      <td> 8.706739</td>\n",
        "      <td>  0.000000</td>\n",
        "      <td> 5.984343</td>\n",
        "      <td> 8.286496</td>\n",
        "      <td> 8.758650</td>\n",
        "      <td> 8.265702</td>\n",
        "    </tr>\n",
        "    <tr>\n",
        "      <th>shakespeare-hamlet.txt</th>\n",
        "      <td> 8.222136</td>\n",
        "      <td> 8.319700</td>\n",
        "      <td> 8.608563</td>\n",
        "      <td> 8.279731</td>\n",
        "      <td> 9.040926</td>\n",
        "      <td> 8.027359</td>\n",
        "      <td>  9.925509</td>\n",
        "      <td> 7.491514</td>\n",
        "      <td> 8.765573</td>\n",
        "      <td> 8.557727</td>\n",
        "      <td> 7.205691</td>\n",
        "      <td> 8.635799</td>\n",
        "      <td> 8.480747</td>\n",
        "      <td>  5.984343</td>\n",
        "      <td> 0.000000</td>\n",
        "      <td> 8.260741</td>\n",
        "      <td> 8.757950</td>\n",
        "      <td> 8.288808</td>\n",
        "    </tr>\n",
        "    <tr>\n",
        "      <th>whitman-leaves.txt</th>\n",
        "      <td> 7.143307</td>\n",
        "      <td> 7.276798</td>\n",
        "      <td> 7.424410</td>\n",
        "      <td> 6.736105</td>\n",
        "      <td> 7.464442</td>\n",
        "      <td> 6.288505</td>\n",
        "      <td>  8.904495</td>\n",
        "      <td> 6.521824</td>\n",
        "      <td> 6.658022</td>\n",
        "      <td> 6.663544</td>\n",
        "      <td> 6.385568</td>\n",
        "      <td> 6.421391</td>\n",
        "      <td> 6.671297</td>\n",
        "      <td>  8.286496</td>\n",
        "      <td> 8.260741</td>\n",
        "      <td> 0.000000</td>\n",
        "      <td> 3.525984</td>\n",
        "      <td> 2.776200</td>\n",
        "    </tr>\n",
        "    <tr>\n",
        "      <th>whitman-patriotic.txt</th>\n",
        "      <td> 7.895257</td>\n",
        "      <td> 7.911180</td>\n",
        "      <td> 8.033736</td>\n",
        "      <td> 6.943236</td>\n",
        "      <td> 7.633758</td>\n",
        "      <td> 6.790038</td>\n",
        "      <td>  9.262020</td>\n",
        "      <td> 6.966587</td>\n",
        "      <td> 7.352344</td>\n",
        "      <td> 7.285691</td>\n",
        "      <td> 7.125479</td>\n",
        "      <td> 7.244879</td>\n",
        "      <td> 7.274864</td>\n",
        "      <td>  8.758650</td>\n",
        "      <td> 8.757950</td>\n",
        "      <td> 3.525984</td>\n",
        "      <td> 0.000000</td>\n",
        "      <td> 3.904140</td>\n",
        "    </tr>\n",
        "    <tr>\n",
        "      <th>whitman-poems.txt</th>\n",
        "      <td> 6.812605</td>\n",
        "      <td> 6.912907</td>\n",
        "      <td> 7.024481</td>\n",
        "      <td> 6.794078</td>\n",
        "      <td> 7.447729</td>\n",
        "      <td> 6.111640</td>\n",
        "      <td>  8.639101</td>\n",
        "      <td> 6.354041</td>\n",
        "      <td> 6.375852</td>\n",
        "      <td> 6.419817</td>\n",
        "      <td> 6.157757</td>\n",
        "      <td> 6.227169</td>\n",
        "      <td> 6.679432</td>\n",
        "      <td>  8.265702</td>\n",
        "      <td> 8.288808</td>\n",
        "      <td> 2.776200</td>\n",
        "      <td> 3.904140</td>\n",
        "      <td> 0.000000</td>\n",
        "    </tr>\n",
        "  </tbody>\n",
        "</table>\n",
        "<p>18 rows \u00d7 18 columns</p>\n",
        "</div>"
       ],
       "metadata": {},
       "output_type": "pyout",
       "prompt_number": 91,
       "text": [
        "                         austen-emma.txt  austen-pride.txt  austen-sense.txt  \\\n",
        "austen-emma.txt                 0.000000          3.288201          3.566582   \n",
        "austen-pride.txt                3.288201          0.000000          3.165094   \n",
        "austen-sense.txt                3.566582          3.165094          0.000000   \n",
        "blake-poems.txt                 7.661250          7.658955          7.847731   \n",
        "blake-songs.txt                 8.367434          8.341250          8.510762   \n",
        "bryant-stories.txt              6.096018          6.172412          6.357429   \n",
        "burgess-busterbrown.txt         7.603400          7.765804          7.892954   \n",
        "carroll-alice.txt               5.444131          5.639749          5.829724   \n",
        "chesterton-ball.txt             6.326319          6.350296          6.489275   \n",
        "chesterton-thursday.txt         6.201457          6.194565          6.406903   \n",
        "edgeworth-parents.txt           4.645956          4.667239          4.970503   \n",
        "melville-piazza.txt             6.391522          6.324388          6.508285   \n",
        "milton-paradise.txt             7.519463          7.421961          7.600019   \n",
        "shakespeare-caesar.txt          8.404147          8.526162          8.837961   \n",
        "shakespeare-hamlet.txt          8.222136          8.319700          8.608563   \n",
        "whitman-leaves.txt              7.143307          7.276798          7.424410   \n",
        "whitman-patriotic.txt           7.895257          7.911180          8.033736   \n",
        "whitman-poems.txt               6.812605          6.912907          7.024481   \n",
        "\n",
        "                         blake-poems.txt  blake-songs.txt  bryant-stories.txt  \\\n",
        "austen-emma.txt                 7.661250         8.367434            6.096018   \n",
        "austen-pride.txt                7.658955         8.341250            6.172412   \n",
        "austen-sense.txt                7.847731         8.510762            6.357429   \n",
        "blake-poems.txt                 0.000000         2.462204            6.387832   \n",
        "blake-songs.txt                 2.462204         0.000000            6.951202   \n",
        "bryant-stories.txt              6.387832         6.951202            0.000000   \n",
        "burgess-busterbrown.txt         8.630030         9.157712            6.485495   \n",
        "carroll-alice.txt               6.426081         7.156909            4.692564   \n",
        "chesterton-ball.txt             7.636606         8.215776            5.674748   \n",
        "chesterton-thursday.txt         7.382237         7.997589            5.490166   \n",
        "edgeworth-parents.txt           6.725573         7.490014            4.878074   \n",
        "melville-piazza.txt             7.631571         8.296710            6.199281   \n",
        "milton-paradise.txt             7.082840         7.847015            7.127346   \n",
        "shakespeare-caesar.txt          8.394294         9.139360            8.253450   \n",
        "shakespeare-hamlet.txt          8.279731         9.040926            8.027359   \n",
        "whitman-leaves.txt              6.736105         7.464442            6.288505   \n",
        "whitman-patriotic.txt           6.943236         7.633758            6.790038   \n",
        "whitman-poems.txt               6.794078         7.447729            6.111640   \n",
        "\n",
        "                         burgess-busterbrown.txt  carroll-alice.txt  \\\n",
        "austen-emma.txt                         7.603400           5.444131   \n",
        "austen-pride.txt                        7.765804           5.639749   \n",
        "austen-sense.txt                        7.892954           5.829724   \n",
        "blake-poems.txt                         8.630030           6.426081   \n",
        "blake-songs.txt                         9.157712           7.156909   \n",
        "bryant-stories.txt                      6.485495           4.692564   \n",
        "burgess-busterbrown.txt                 0.000000           6.418385   \n",
        "carroll-alice.txt                       6.418385           0.000000   \n",
        "chesterton-ball.txt                     7.740942           5.713795   \n",
        "chesterton-thursday.txt                 7.570074           5.485762   \n",
        "edgeworth-parents.txt                   7.094584           4.476264   \n",
        "melville-piazza.txt                     8.431711           6.066462   \n",
        "milton-paradise.txt                     9.261794           7.187318   \n",
        "shakespeare-caesar.txt                 10.027637           7.720126   \n",
        "shakespeare-hamlet.txt                  9.925509           7.491514   \n",
        "whitman-leaves.txt                      8.904495           6.521824   \n",
        "whitman-patriotic.txt                   9.262020           6.966587   \n",
        "whitman-poems.txt                       8.639101           6.354041   \n",
        "\n",
        "                         chesterton-ball.txt  chesterton-thursday.txt  \\\n",
        "austen-emma.txt                     6.326319                 6.201457   \n",
        "austen-pride.txt                    6.350296                 6.194565   \n",
        "austen-sense.txt                    6.489275                 6.406903   \n",
        "blake-poems.txt                     7.636606                 7.382237   \n",
        "blake-songs.txt                     8.215776                 7.997589   \n",
        "bryant-stories.txt                  5.674748                 5.490166   \n",
        "burgess-busterbrown.txt             7.740942                 7.570074   \n",
        "carroll-alice.txt                   5.713795                 5.485762   \n",
        "chesterton-ball.txt                 0.000000                 4.138554   \n",
        "chesterton-thursday.txt             4.138554                 0.000000   \n",
        "edgeworth-parents.txt               5.616351                 5.451512   \n",
        "melville-piazza.txt                 6.005574                 5.975628   \n",
        "milton-paradise.txt                 7.538391                 7.528025   \n",
        "shakespeare-caesar.txt              9.049477                 8.762982   \n",
        "shakespeare-hamlet.txt              8.765573                 8.557727   \n",
        "whitman-leaves.txt                  6.658022                 6.663544   \n",
        "whitman-patriotic.txt               7.352344                 7.285691   \n",
        "whitman-poems.txt                   6.375852                 6.419817   \n",
        "\n",
        "                         edgeworth-parents.txt  melville-piazza.txt  \\\n",
        "austen-emma.txt                       4.645956             6.391522   \n",
        "austen-pride.txt                      4.667239             6.324388   \n",
        "austen-sense.txt                      4.970503             6.508285   \n",
        "blake-poems.txt                       6.725573             7.631571   \n",
        "blake-songs.txt                       7.490014             8.296710   \n",
        "bryant-stories.txt                    4.878074             6.199281   \n",
        "burgess-busterbrown.txt               7.094584             8.431711   \n",
        "carroll-alice.txt                     4.476264             6.066462   \n",
        "chesterton-ball.txt                   5.616351             6.005574   \n",
        "chesterton-thursday.txt               5.451512             5.975628   \n",
        "edgeworth-parents.txt                 0.000000             5.688283   \n",
        "melville-piazza.txt                   5.688283             0.000000   \n",
        "milton-paradise.txt                   6.799950             6.982115   \n",
        "shakespeare-caesar.txt                7.425381             8.878817   \n",
        "shakespeare-hamlet.txt                7.205691             8.635799   \n",
        "whitman-leaves.txt                    6.385568             6.421391   \n",
        "whitman-patriotic.txt                 7.125479             7.244879   \n",
        "whitman-poems.txt                     6.157757             6.227169   \n",
        "\n",
        "                         milton-paradise.txt  shakespeare-caesar.txt  \\\n",
        "austen-emma.txt                     7.519463                8.404147   \n",
        "austen-pride.txt                    7.421961                8.526162   \n",
        "austen-sense.txt                    7.600019                8.837961   \n",
        "blake-poems.txt                     7.082840                8.394294   \n",
        "blake-songs.txt                     7.847015                9.139360   \n",
        "bryant-stories.txt                  7.127346                8.253450   \n",
        "burgess-busterbrown.txt             9.261794               10.027637   \n",
        "carroll-alice.txt                   7.187318                7.720126   \n",
        "chesterton-ball.txt                 7.538391                9.049477   \n",
        "chesterton-thursday.txt             7.528025                8.762982   \n",
        "edgeworth-parents.txt               6.799950                7.425381   \n",
        "melville-piazza.txt                 6.982115                8.878817   \n",
        "milton-paradise.txt                 0.000000                8.706739   \n",
        "shakespeare-caesar.txt              8.706739                0.000000   \n",
        "shakespeare-hamlet.txt              8.480747                5.984343   \n",
        "whitman-leaves.txt                  6.671297                8.286496   \n",
        "whitman-patriotic.txt               7.274864                8.758650   \n",
        "whitman-poems.txt                   6.679432                8.265702   \n",
        "\n",
        "                         shakespeare-hamlet.txt  whitman-leaves.txt  \\\n",
        "austen-emma.txt                        8.222136            7.143307   \n",
        "austen-pride.txt                       8.319700            7.276798   \n",
        "austen-sense.txt                       8.608563            7.424410   \n",
        "blake-poems.txt                        8.279731            6.736105   \n",
        "blake-songs.txt                        9.040926            7.464442   \n",
        "bryant-stories.txt                     8.027359            6.288505   \n",
        "burgess-busterbrown.txt                9.925509            8.904495   \n",
        "carroll-alice.txt                      7.491514            6.521824   \n",
        "chesterton-ball.txt                    8.765573            6.658022   \n",
        "chesterton-thursday.txt                8.557727            6.663544   \n",
        "edgeworth-parents.txt                  7.205691            6.385568   \n",
        "melville-piazza.txt                    8.635799            6.421391   \n",
        "milton-paradise.txt                    8.480747            6.671297   \n",
        "shakespeare-caesar.txt                 5.984343            8.286496   \n",
        "shakespeare-hamlet.txt                 0.000000            8.260741   \n",
        "whitman-leaves.txt                     8.260741            0.000000   \n",
        "whitman-patriotic.txt                  8.757950            3.525984   \n",
        "whitman-poems.txt                      8.288808            2.776200   \n",
        "\n",
        "                         whitman-patriotic.txt  whitman-poems.txt  \n",
        "austen-emma.txt                       7.895257           6.812605  \n",
        "austen-pride.txt                      7.911180           6.912907  \n",
        "austen-sense.txt                      8.033736           7.024481  \n",
        "blake-poems.txt                       6.943236           6.794078  \n",
        "blake-songs.txt                       7.633758           7.447729  \n",
        "bryant-stories.txt                    6.790038           6.111640  \n",
        "burgess-busterbrown.txt               9.262020           8.639101  \n",
        "carroll-alice.txt                     6.966587           6.354041  \n",
        "chesterton-ball.txt                   7.352344           6.375852  \n",
        "chesterton-thursday.txt               7.285691           6.419817  \n",
        "edgeworth-parents.txt                 7.125479           6.157757  \n",
        "melville-piazza.txt                   7.244879           6.227169  \n",
        "milton-paradise.txt                   7.274864           6.679432  \n",
        "shakespeare-caesar.txt                8.758650           8.265702  \n",
        "shakespeare-hamlet.txt                8.757950           8.288808  \n",
        "whitman-leaves.txt                    3.525984           2.776200  \n",
        "whitman-patriotic.txt                 0.000000           3.904140  \n",
        "whitman-poems.txt                     3.904140           0.000000  \n",
        "\n",
        "[18 rows x 18 columns]"
       ]
      }
     ],
     "prompt_number": 91
    },
    {
     "cell_type": "markdown",
     "metadata": {},
     "source": [
      "Consider your results from each of these different metrics.  Is there anything that suggests which of these metrics are better for analyzing this data?\n",
      "\n",
      "__Write your answer in this text box, below this line.__\n",
      "\n",
      "Your answer:\n",
      "\n",
      "_blahblahblah_"
     ]
    }
   ],
   "metadata": {}
  }
 ]
}