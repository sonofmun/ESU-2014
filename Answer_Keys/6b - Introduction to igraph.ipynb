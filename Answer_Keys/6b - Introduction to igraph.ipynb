{
 "metadata": {
  "name": ""
 },
 "nbformat": 3,
 "nbformat_minor": 0,
 "worksheets": [
  {
   "cells": [
    {
     "cell_type": "markdown",
     "metadata": {},
     "source": [
      "`igraphs` is sort of like the Gephi for Python.  It allows you to construct very nice network graphs but gives you much more control over the whole process than you get with Gephi.  In this lesson, we will dive quickly into `igraphs` with a focus on how to construct semantic network visualizations.  We will also learn how to export our graph data in a form that can be imported into a program like Gephi and, best of all, one strategy for dealing with huge network graphs that will avoid the 'hairball' usually associated with these graphs.<br>\n",
      "So, let's jump right in."
     ]
    },
    {
     "cell_type": "heading",
     "level": 1,
     "metadata": {},
     "source": [
      "Initialize Graph and Add Vertices"
     ]
    },
    {
     "cell_type": "markdown",
     "metadata": {},
     "source": [
      "The first step is to initialize a graph as follows:"
     ]
    },
    {
     "cell_type": "code",
     "collapsed": false,
     "input": [
      "from igraph import *\n",
      "\n",
      "graph = Graph()\n",
      "graph"
     ],
     "language": "python",
     "metadata": {},
     "outputs": [
      {
       "metadata": {},
       "output_type": "pyout",
       "prompt_number": 14,
       "text": [
        "<igraph.Graph at 0x7fdef968ac78>"
       ]
      }
     ],
     "prompt_number": 14
    },
    {
     "cell_type": "markdown",
     "metadata": {},
     "source": [
      "We now have an instance of an `igraph.Graph` object that we can start filling with data.  The first step is to add vertices, AKA nodes.  We can simply tell igraph how many nodes to add with a command like:\n",
      "\n",
      "    graph.add_vertices(1000)\n",
      "\n",
      "This command will add 1000 vertices to our graph and give them $ID$s from 0-999.  But, since we are dealing with words in our semantic network visualization, we would like to initialize our vertices so that they also have $name$s that are the actual words.  We do this by passing an iterator of words to the `add_vertices` method.  Something like this:"
     ]
    },
    {
     "cell_type": "code",
     "collapsed": false,
     "input": [
      "import pandas as pd\n",
      "\n",
      "CS_graph = Graph() # so that it resets our vertices every time we run this script\n",
      "NT_CS = 1-pd.read_pickle('GNT_CS_50x.pickle') #Converts cosine distance to cosine similarity\n",
      "CS_graph.add_vertices(list(NT_CS.index))\n",
      "print(CS_graph)"
     ],
     "language": "python",
     "metadata": {},
     "outputs": [
      {
       "output_type": "stream",
       "stream": "stdout",
       "text": [
        "IGRAPH UN-- 262 0 --\n",
        "+ attr: name (v)\n"
       ]
      }
     ],
     "prompt_number": 15
    },
    {
     "cell_type": "markdown",
     "metadata": {},
     "source": [
      "The rather cryptic information about the graph tells us the we have 262 vertices, 0 edges, and that our vertices (v) have the `name` attribute.  The graph now has a sequence of vertices, which are represented by a `.vs` attribute on the graph.  We can access the attributes that exist like this."
     ]
    },
    {
     "cell_type": "code",
     "collapsed": false,
     "input": [
      "CS_graph.vs['name'][:10] #only showing the first 10"
     ],
     "language": "python",
     "metadata": {},
     "outputs": [
      {
       "metadata": {},
       "output_type": "pyout",
       "prompt_number": 16,
       "text": [
        "['\u03c0\u03bd\u03b5\u1fe6\u03bc\u03b1',\n",
        " '\u1f10\u03be\u03bf\u03c5\u03c3\u03af\u03b1',\n",
        " '\u1f14\u03c3\u03c7\u03b1\u03c4\u03bf\u03c2',\n",
        " '\u03c0\u03bb\u03bf\u1fd6\u03bf\u03bd',\n",
        " '\u1f00\u03c0\u03bf\u03bb\u03cd\u03c9',\n",
        " '\u03b3\u03c5\u03bd\u03ae',\n",
        " '\u03ba\u03cd\u03c1\u03b9\u03bf\u03c2',\n",
        " '\u03ba\u03ac\u03b8\u03b7\u03bc\u03b1\u03b9',\n",
        " '\u03ba\u1f00\u03b3\u03ce',\n",
        " '\u03b4\u03ce\u03b4\u03b5\u03ba\u03b1']"
       ]
      }
     ],
     "prompt_number": 16
    },
    {
     "cell_type": "markdown",
     "metadata": {},
     "source": [
      "And we can add other attributes to our vertices like this:"
     ]
    },
    {
     "cell_type": "code",
     "collapsed": false,
     "input": [
      "NT_occ = pd.read_pickle('./GNT_coll_dict.pickle') #word occurrence dictionary\n",
      "CS_graph.vs['occurrences'] = [NT_occ[x] for x in CS_graph.vs['name']] #we need to pass a list of values\n",
      "print(NT_occ['\u03c0\u03bd\u03b5\u1fe6\u03bc\u03b1'])\n",
      "print(CS_graph.vs.select(name_eq= '\u03c0\u03bd\u03b5\u1fe6\u03bc\u03b1')['occurrences'])\n",
      "print(CS_graph.summary())"
     ],
     "language": "python",
     "metadata": {},
     "outputs": [
      {
       "output_type": "stream",
       "stream": "stdout",
       "text": [
        "379\n",
        "[379]\n",
        "IGRAPH UN-- 262 0 -- \n",
        "+ attr: name (v), occurrences (v)\n"
       ]
      }
     ],
     "prompt_number": 17
    },
    {
     "cell_type": "markdown",
     "metadata": {},
     "source": [
      "Notice the strange way of selecting vertices in the graph based on attributes.  Vertex attributes are done in terms of the name of the attribute (e.g., 'name' or 'occurrences') followed by an underscore (\\_) and then followed by the relationship one is looking for.  The possible relationships can be found here: http://igraph.org/python/doc/igraph.VertexSeq-class.html#select.  A few examples below."
     ]
    },
    {
     "cell_type": "code",
     "collapsed": false,
     "input": [
      "print(CS_graph.vs.select(occurrences_eq=50)['name']) #all words occurring exactly 50x\n",
      "print(CS_graph.vs.select(occurrences_gt=379)['name']) #all words occurring more than 379x"
     ],
     "language": "python",
     "metadata": {},
     "outputs": [
      {
       "output_type": "stream",
       "stream": "stdout",
       "text": [
        "['\u03c4\u03c5\u03c6\u03bb\u03cc\u03c2', '\u03c0\u03b1\u03c1\u03b1\u03b2\u03bf\u03bb\u03ae', '\u03b3\u03bb\u1ff6\u03c3\u03c3\u03b1', '\u03bc\u03b1\u03ba\u03ac\u03c1\u03b9\u03bf\u03c2', '\u03c0\u03bf\u1fe6', '\u03ba\u03b1\u03ba\u03cc\u03c2']\n",
        "['\u03ba\u03cd\u03c1\u03b9\u03bf\u03c2', '\u1f14\u03c1\u03c7\u03bf\u03bc\u03b1\u03b9', '\u1f41\u03c1\u03ac\u03c9', '\u03c0\u1fb6\u03c2', '\u1f21\u03bc\u03ad\u03c1\u03b1', '\u1f35\u03bd\u03b1', '\u03c0\u03bf\u03bb\u03cd\u03c2', '\u1f00\u03ba\u03bf\u03cd\u03c9', '\u03c0\u03bf\u03b9\u03ad\u03c9', '\u03c0\u03b1\u03c4\u03ae\u03c1', '\u1f04\u03bd\u03b8\u03c1\u03c9\u03c0\u03bf\u03c2', '\u1f38\u03b7\u03c3\u03bf\u1fe6\u03c2', '\u03bb\u03ad\u03b3\u03c9', '\u03b4\u03af\u03b4\u03c9\u03bc\u03b9', '\u03b8\u03b5\u03cc\u03c2', '\u03a7\u03c1\u03b9\u03c3\u03c4\u03cc\u03c2', '\u1f14\u03c7\u03c9', '\u03b3\u03af\u03bd\u03bf\u03bc\u03b1\u03b9']\n"
       ]
      }
     ],
     "prompt_number": 18
    },
    {
     "cell_type": "heading",
     "level": 1,
     "metadata": {},
     "source": [
      "Add Edges"
     ]
    },
    {
     "cell_type": "markdown",
     "metadata": {},
     "source": [
      "Our graph is not yet very interesting because we don't have any edges.  So let's take care of that.\n",
      "\n",
      "igraph wants us to add edges by giving the $name$ of the two vertices as well as any attributes (e.g., 'weight') for each edge.  We could add all of the edges and then add the weights later, as we did for `occurrences` for the vertices above, but below we add this information along with the creation of the edge."
     ]
    },
    {
     "cell_type": "code",
     "collapsed": false,
     "input": [
      "CS_graph.add_edge(NT_CS.ix[0].name, NT_CS.ix[1].name, weight=NT_CS.ix[0, 1])"
     ],
     "language": "python",
     "metadata": {},
     "outputs": [],
     "prompt_number": 19
    },
    {
     "cell_type": "code",
     "collapsed": false,
     "input": [
      "CS_graph.es[0]"
     ],
     "language": "python",
     "metadata": {},
     "outputs": [
      {
       "metadata": {},
       "output_type": "pyout",
       "prompt_number": 20,
       "text": [
        "igraph.Edge(<igraph.Graph object at 0x7fdef82d0048>, 0, {'weight': 0.25977170121907567})"
       ]
      }
     ],
     "prompt_number": 20
    },
    {
     "cell_type": "markdown",
     "metadata": {},
     "source": [
      "__Quiz:__\n",
      "\n",
      "Write a function below that takes as input a DataFrame with some sort of $weight$ measure (co-occurrences, log-likelihood ratio, cosine similarity values) and a `Graph()` object where the $vertices==df.index$ and adds the appropriate edges to the `Graph()`.\n",
      "\n",
      "__NB__: Since our graph is undirected, __do not__ add the same edge twice, i.e., don't add 0--1 and 1--0, since the values of these two edges are the same.\n",
      "\n",
      "__Hint:__ You can use `combinations` on DataFrames as well."
     ]
    },
    {
     "cell_type": "code",
     "collapsed": false,
     "input": [
      "from itertools import combinations\n",
      "\n",
      "# The two lines below delete any existing edged in the graph\n",
      "# This will allow you to run this cell more than just one time w/o repeating edges.\n",
      "i = [x for x in range(len(CS_graph.es))]\n",
      "CS_graph.delete_edges(i)\n",
      "def add_my_edges(g, df):\n",
      "    #input your code here\n",
      "    #you shouldn't need to return any value.\n",
      "    for a, b in combinations(df, 2):\n",
      "        g.add_edge(a, b, weight = df.ix[a, b])\n",
      "    return None\n",
      "    \n",
      "#The lines below are to check your function.\n",
      "add_my_edges(CS_graph, NT_CS)\n",
      "print(len(CS_graph.es) == 34191)\n",
      "print(CS_graph.es[17000].tuple == (76, 91) and CS_graph.es[12000].attributes() == {'weight': 0.15165763823647904})"
     ],
     "language": "python",
     "metadata": {},
     "outputs": [
      {
       "output_type": "stream",
       "stream": "stdout",
       "text": [
        "True\n",
        "True\n"
       ]
      }
     ],
     "prompt_number": 21
    },
    {
     "cell_type": "code",
     "collapsed": false,
     "input": [
      "CS_graph.summary()"
     ],
     "language": "python",
     "metadata": {},
     "outputs": [
      {
       "metadata": {},
       "output_type": "pyout",
       "prompt_number": 22,
       "text": [
        "'IGRAPH UNW- 262 34191 -- \\n+ attr: name (v), occurrences (v), weight (e)'"
       ]
      }
     ],
     "prompt_number": 22
    },
    {
     "cell_type": "heading",
     "level": 1,
     "metadata": {},
     "source": [
      "Generate Graph!"
     ]
    },
    {
     "cell_type": "markdown",
     "metadata": {},
     "source": [
      "We are now ready to draw our first graph.  So let's do it!"
     ]
    },
    {
     "cell_type": "code",
     "collapsed": false,
     "input": [
      "bbox = (3000, 2000)\n",
      "plot(CS_graph, bbox=bbox, target = 'plot.svg')"
     ],
     "language": "python",
     "metadata": {},
     "outputs": [
      {
       "metadata": {},
       "output_type": "pyout",
       "prompt_number": 23,
       "text": [
        "<igraph.drawing.Plot at 0x7fdf1e626b00>"
       ]
      }
     ],
     "prompt_number": 23
    },
    {
     "cell_type": "markdown",
     "metadata": {},
     "source": [
      "Take a look at the `plot.svg` file that was created in the same directory as this IPython Notebook.  It isn't really that helpful of a visualization, is it?\n",
      "\n",
      "Take a look at the code below and the resulting graph."
     ]
    },
    {
     "cell_type": "code",
     "collapsed": false,
     "input": [
      "CS_graph.summary()\n",
      "reduced.summary()"
     ],
     "language": "python",
     "metadata": {},
     "outputs": [
      {
       "ename": "NameError",
       "evalue": "name 'reduced' is not defined",
       "output_type": "pyerr",
       "traceback": [
        "\u001b[0;31m---------------------------------------------------------------------------\u001b[0m\n\u001b[0;31mNameError\u001b[0m                                 Traceback (most recent call last)",
        "\u001b[0;32m<ipython-input-24-25390368d076>\u001b[0m in \u001b[0;36m<module>\u001b[0;34m()\u001b[0m\n\u001b[1;32m      1\u001b[0m \u001b[0mCS_graph\u001b[0m\u001b[0;34m.\u001b[0m\u001b[0msummary\u001b[0m\u001b[0;34m(\u001b[0m\u001b[0;34m)\u001b[0m\u001b[0;34m\u001b[0m\u001b[0m\n\u001b[0;32m----> 2\u001b[0;31m \u001b[0mreduced\u001b[0m\u001b[0;34m.\u001b[0m\u001b[0msummary\u001b[0m\u001b[0;34m(\u001b[0m\u001b[0;34m)\u001b[0m\u001b[0;34m\u001b[0m\u001b[0m\n\u001b[0m",
        "\u001b[0;31mNameError\u001b[0m: name 'reduced' is not defined"
       ]
      }
     ],
     "prompt_number": 24
    },
    {
     "cell_type": "code",
     "collapsed": false,
     "input": [
      "from copy import deepcopy\n",
      "\n",
      "def reduce_graph_edges(graph, value):\n",
      "    # reduce a graph's edges based their weight being <= value\n",
      "    reduced = deepcopy(graph)\n",
      "    reduced.delete_edges(weight_le=value)\n",
      "    return reduced\n",
      "\n",
      "CS_reduced = reduce_graph_edges(CS_graph, .4)\n",
      "\n",
      "def create_word_graph(word, orig_graph):\n",
      "    node = orig_graph.vs.find(name = word)\n",
      "    word_graph = orig_graph.subgraph(node.neighbors())\n",
      "    return word_graph\n",
      "\n",
      "g_theos = create_word_graph('\u03b8\u03b5\u03cc\u03c2', CS_reduced)\n",
      "summary(g_theos)"
     ],
     "language": "python",
     "metadata": {},
     "outputs": []
    },
    {
     "cell_type": "markdown",
     "metadata": {},
     "source": [
      "Notice we have cut our graph down to a more manageable size, only 85 vertices and 1191 edges."
     ]
    },
    {
     "cell_type": "markdown",
     "metadata": {},
     "source": [
      "__Quiz:__\n",
      "\n",
      "Explain each part of the code above.  Write your answers in the space below.\n",
      "\n",
      "    reduced = deepcopy(graph)\n",
      "\n",
      "_Write your answer here_\n",
      "\n",
      "    reduced.delete_edges(weight_le=value)\n",
      "\n",
      "_Write your answer here_\n",
      "\n",
      "    node = orig_graph.vs.find(name = word)\n",
      "\n",
      "_Write your answer here_\n",
      "\n",
      "    word_graph = orig_graph.subgraph(node.neighbors())\n",
      "    \n",
      "_Write your answer here_"
     ]
    },
    {
     "cell_type": "markdown",
     "metadata": {},
     "source": [
      "Now that we have a more manageable graph, let's plot it to see how it looks."
     ]
    },
    {
     "cell_type": "code",
     "collapsed": false,
     "input": [
      "plot(g_theos, layout = 'random', bbox = bbox, target = 'plot_theos.svg')"
     ],
     "language": "python",
     "metadata": {},
     "outputs": []
    },
    {
     "cell_type": "code",
     "collapsed": false,
     "input": [
      "g_theos['name'] = 'g_theos'\n",
      "print(g_theos.summary())\n",
      "g_theos['name']"
     ],
     "language": "python",
     "metadata": {},
     "outputs": []
    },
    {
     "cell_type": "markdown",
     "metadata": {},
     "source": [
      "Hmmm, it looks better but still pretty `random`.  Maybe we should choose a better layout."
     ]
    },
    {
     "cell_type": "heading",
     "level": 2,
     "metadata": {},
     "source": [
      "Network graph options"
     ]
    },
    {
     "cell_type": "markdown",
     "metadata": {},
     "source": [
      "Currently, the best widely available and used network-graphing layouts are the so-called \"force-directed\" layouts.  A description of these from Wikipedia:\n",
      "\n",
      ">Force-directed graph drawing algorithms are a class of algorithms for drawing graphs in an aesthetically pleasing way. Their purpose is to position the nodes of a graph in two-dimensional or three-dimensional space so that all the edges are of more or less equal length and there are as few crossing edges as possible, by assigning forces among the set of edges and the set of nodes, based on their relative positions, and then using these forces either to simulate the motion of the edges and nodes or to minimize their energy. (source: en.wikipedia.org/wiki/Force-directed_graph_drawing)\n",
      "\n",
      "igraph has several different force-directed layouts.  Check out the list here: http://igraph.org/python/doc/tutorial/tutorial.html#layouts-and-plotting."
     ]
    },
    {
     "cell_type": "markdown",
     "metadata": {},
     "source": [
      "__Quiz__:  Write a short function below that will take as input a list of igraph plotting layouts and a Graph() object, plots the Graph() in each of these layouts, and saves each graph to a file name that makes sense (e.g., {graphname}\\_{layout}.svg)."
     ]
    },
    {
     "cell_type": "code",
     "collapsed": false,
     "input": [
      "def compare_layout(layouts, g):\n",
      "    #list of layouts and a Graph() object\n",
      "    for layout in layouts:\n",
      "        print(layout)\n",
      "        l_o = g.layout(layout)\n",
      "        target = 'plot_%s_%s.svg' % (g['name'], layout)\n",
      "        print(target)\n",
      "        plot(g, layout = l_o, bbox = bbox, target = target)\n",
      "    return None\n",
      "\n",
      "# Write your own code to check your function below.\n",
      "compare_layout(['drl', 'fr', 'grid_fr', 'kk', 'lgl'], g_theos)"
     ],
     "language": "python",
     "metadata": {},
     "outputs": []
    },
    {
     "cell_type": "markdown",
     "metadata": {},
     "source": [
      "Now check out your graphs.  Which layout do you like the best for the data that we have?  And why?"
     ]
    },
    {
     "cell_type": "heading",
     "level": 1,
     "metadata": {},
     "source": [
      "Make it readable!"
     ]
    },
    {
     "cell_type": "markdown",
     "metadata": {},
     "source": [
      "Your graph is still not very readable.  So let's add a few things to make it better."
     ]
    },
    {
     "cell_type": "heading",
     "level": 2,
     "metadata": {},
     "source": [
      "Add labels"
     ]
    },
    {
     "cell_type": "markdown",
     "metadata": {},
     "source": [
      "Adding labels is quite easy.  We simply insert the `vertex_label` keyword into our `plot` function with the value being the iterable of names we want to use.  See below."
     ]
    },
    {
     "cell_type": "code",
     "collapsed": false,
     "input": [
      "plot(g_theos, \n",
      "     layout = 'random', \n",
      "     vertex_label = g_theos.vs['name'], \n",
      "     bbox = bbox, \n",
      "     target = 'plot_theos.svg'\n",
      "     )"
     ],
     "language": "python",
     "metadata": {},
     "outputs": []
    },
    {
     "cell_type": "markdown",
     "metadata": {},
     "source": [
      "On my computer, the labels are far too small.  Play around a bit with the other `vertex` attributes in the `plot` function (see here: http://igraph.org/python/doc/igraph.Graph-class.html#__plot__) until you get something that looks good on your computer.  Also, feel free to insert your favorite layout from the `compare_layouts()` function in your plot command."
     ]
    },
    {
     "cell_type": "code",
     "collapsed": false,
     "input": [
      "#insert your own plot command here.\n",
      "plot(g_theos, \n",
      "     layout = 'fr', \n",
      "     vertex_label = g_theos.vs['name'], \n",
      "     bbox = bbox, \n",
      "     target = 'plot_theos.svg',\n",
      "     vertex_label_size = 36\n",
      "     )"
     ],
     "language": "python",
     "metadata": {},
     "outputs": []
    },
    {
     "cell_type": "heading",
     "level": 2,
     "metadata": {},
     "source": [
      "Add communities"
     ]
    },
    {
     "cell_type": "markdown",
     "metadata": {},
     "source": [
      "The final step in creating out plot is to add some community detection.  Below is one example of how to do this."
     ]
    },
    {
     "cell_type": "code",
     "collapsed": false,
     "input": [
      "theos_comms = g_theos.community_multilevel(weights = 'weight')\n",
      "print(theos_comms)\n",
      "c_algo = getattr(g_theos, 'community_multilevel')(weights = 'weight')\n",
      "#g_theos.c_algo(weights = 'weight')"
     ],
     "language": "python",
     "metadata": {},
     "outputs": []
    },
    {
     "cell_type": "markdown",
     "metadata": {},
     "source": [
      "There are also several different community-detection algorithms in igraph.  To find a list go to this page (igraph.org/python/doc/igraph.Graph-class.html) and search for 'community'."
     ]
    },
    {
     "cell_type": "markdown",
     "metadata": {},
     "source": [
      "__Quiz:__  I bet you can guess what function I am going to ask you to write below!\n",
      "\n",
      "_Hint:_ Check the name of the function."
     ]
    },
    {
     "cell_type": "code",
     "collapsed": false,
     "input": [
      "def compare_comm_algos(algos, g):\n",
      "    #insert your code here\n",
      "    comms_dict = {}\n",
      "    for algo in algos:\n",
      "        print(algo)\n",
      "        try:\n",
      "            comms_dict[algo] = getattr(g, 'community_%s' % (algo))(weights = 'weight')\n",
      "        except:\n",
      "            comms_dict[algo] = getattr(g, 'community_%s' % (algo))()\n",
      "    return comms_dict\n",
      "\n",
      "# Write some lines below to test your script\n",
      "comms = compare_comm_algos(['leading_eigenvector', 'label_propagation',\n",
      "                    'multilevel', 'edge_betweenness', \n",
      "                    'walktrap'], g_theos)"
     ],
     "language": "python",
     "metadata": {},
     "outputs": []
    },
    {
     "cell_type": "code",
     "collapsed": false,
     "input": [
      "for algo in comms.keys():\n",
      "    print(algo, '\\n', comms[algo], '\\n')"
     ],
     "language": "python",
     "metadata": {},
     "outputs": []
    },
    {
     "cell_type": "markdown",
     "metadata": {},
     "source": [
      "And then, to integrate the community information into our graph, we do this:"
     ]
    },
    {
     "cell_type": "code",
     "collapsed": false,
     "input": [
      "layout = g_theos.layout('fruchterman_reingold')\n",
      "palette = ClusterColoringPalette(len(theos_comms))\n",
      "color = [palette.get(i) for i in theos_comms.membership]\n",
      "plot(g_theos, layout=layout,\n",
      "               bbox=bbox,\n",
      "               target='plot_communities.svg',\n",
      "               vertex_color=color,\n",
      "               vertex_label_size = 36,\n",
      "               vertex_label = g_theos.vs['name'],\n",
      "               edge_color = 'gray'\n",
      "               )"
     ],
     "language": "python",
     "metadata": {},
     "outputs": []
    },
    {
     "cell_type": "heading",
     "level": 1,
     "metadata": {},
     "source": [
      "Dealing with huge networks"
     ]
    },
    {
     "cell_type": "markdown",
     "metadata": {},
     "source": [
      "What we did above is quite nice, but how can you plot a graph will _all_ of the co-occurrence, log-likelihood, or cosine-similarity data that we have calculated this week without getting the same hairball that we did in our `plot.svg` plot?\n",
      "\n",
      "First, let's load different data, in this case, a DataFrame of the log-likelihood relationships of every word that occurs at least 50x in the Greek New Testament.  The code below should look familiar to you."
     ]
    },
    {
     "cell_type": "code",
     "collapsed": false,
     "input": [
      "def create_graph(file):\n",
      "    graph = Graph() # so that it resets our graph every time we run this function\n",
      "    df = pd.read_pickle(file) \n",
      "    graph.add_vertices(list(df.index))\n",
      "    add_my_edges(graph, df) #this will use the function you defined above\n",
      "    return graph\n",
      "\n",
      "LL_graph = create_graph('GNT_LL_50x.pickle')"
     ],
     "language": "python",
     "metadata": {},
     "outputs": []
    },
    {
     "cell_type": "markdown",
     "metadata": {},
     "source": [
      "The next step is to create our community-based graph.  This will create a simpler graph with a node for each community that will be spaced around the graph area.  We will then fit the vertices belonging to each community into this community graph shell.\n",
      "\n",
      "__Quiz:__ Take a look at the code below and see if you can figure out what each line does."
     ]
    },
    {
     "cell_type": "code",
     "collapsed": false,
     "input": [
      "def create_comm_graph(graph):\n",
      "    comms = graph.community_multilevel(weights = 'weight')\n",
      "    contracted = comms.cluster_graph()\n",
      "    layout = contracted.layout('auto')\n",
      "    layout.scale(contracted.vcount())\n",
      "    return comms, contracted, layout\n",
      "\n",
      "LL_communities, contracted_graph, outer_layout = create_comm_graph(LL_graph)"
     ],
     "language": "python",
     "metadata": {},
     "outputs": []
    },
    {
     "cell_type": "markdown",
     "metadata": {},
     "source": [
      "Now that we have created the graph for our communities, let's plot it.  Take a look at it once it has been plotted.  This will give you an idea of the skeleton that we will fit your finished graph onto."
     ]
    },
    {
     "cell_type": "code",
     "collapsed": false,
     "input": [
      "plot(contracted_graph, layout = outer_layout, bbox = bbox, target='plot_outer.svg')"
     ],
     "language": "python",
     "metadata": {},
     "outputs": [
      {
       "metadata": {},
       "output_type": "pyout",
       "prompt_number": 25,
       "text": [
        "<igraph.drawing.Plot at 0x7fdf1e5c5cc0>"
       ]
      }
     ],
     "prompt_number": 25
    },
    {
     "cell_type": "markdown",
     "metadata": {},
     "source": [
      "And now the magic, where we create all of the individual subgraph.  \n",
      "\n",
      "The first 3 lines lines below set the size of our communities.  The $r$ value will be subtracted from the $x$ and $y$ values for the center of each subgraph to bound that subgraph.  If you want tigher communities, raise the denominator (now set at 4).  If you want looser communities that will tend to overlap each other, lower it.\n",
      "\n",
      "The rest of the lines basically go through every community in the $comms$ object that we pass, creates a subgraph for each community in the $graph$ object that we pass, places each of these subgraphs around the appropriate node in the community graph we created above, and then returns a `Layout` object that will be used to create our large graph.\n",
      "\n",
      "Take a closer look at each line and make sure you know what purpose it serves in the code.  You don't have to understand each line 100%.  Just know why it is there."
     ]
    },
    {
     "cell_type": "code",
     "collapsed": false,
     "input": [
      "def create_inner_graphs(graph, comms, outer_layout):\n",
      "    outer_box = outer_layout.bounding_box()\n",
      "    from math import sqrt\n",
      "    r = sqrt(sum(outer_box.shape)/4)\n",
      "    inner_layout = Layout([(0,0) for _ in range(graph.vcount())])\n",
      "    for comm, vertices in enumerate(comms):\n",
      "        print('Plotting layout for community %s ...' % comm)\n",
      "        comm_graph = graph.induced_subgraph(vertices)\n",
      "        comm_layout = graph.layout('fruchterman_reingold')\n",
      "        cx, cy = outer_layout[comm]\n",
      "        inner_box = (cx-r, cy-r, cx+r, cy+r)\n",
      "        comm_layout.fit_into(inner_box)\n",
      "        for vertex, coords in zip(vertices, comm_layout):\n",
      "            inner_layout[vertex] = coords\n",
      "    return inner_layout\n",
      "\n",
      "inner_layout = create_inner_graphs(LL_graph, LL_communities, outer_layout)"
     ],
     "language": "python",
     "metadata": {},
     "outputs": [
      {
       "output_type": "stream",
       "stream": "stdout",
       "text": [
        "Plotting layout for community 0 ...\n",
        "Plotting layout for community 1 ..."
       ]
      },
      {
       "output_type": "stream",
       "stream": "stdout",
       "text": [
        "\n",
        "Plotting layout for community 2 ..."
       ]
      },
      {
       "output_type": "stream",
       "stream": "stdout",
       "text": [
        "\n",
        "Plotting layout for community 3 ..."
       ]
      },
      {
       "output_type": "stream",
       "stream": "stdout",
       "text": [
        "\n",
        "Plotting layout for community 4 ..."
       ]
      },
      {
       "output_type": "stream",
       "stream": "stdout",
       "text": [
        "\n",
        "Plotting layout for community 5 ..."
       ]
      },
      {
       "output_type": "stream",
       "stream": "stdout",
       "text": [
        "\n",
        "Plotting layout for community 6 ..."
       ]
      },
      {
       "output_type": "stream",
       "stream": "stdout",
       "text": [
        "\n",
        "Plotting layout for community 7 ..."
       ]
      },
      {
       "output_type": "stream",
       "stream": "stdout",
       "text": [
        "\n"
       ]
      }
     ],
     "prompt_number": 26
    },
    {
     "cell_type": "markdown",
     "metadata": {},
     "source": [
      "And, finally, a function to plot the graph.  Take a look at each line to make sure you understand what its purpose is."
     ]
    },
    {
     "cell_type": "code",
     "collapsed": false,
     "input": [
      "def plot_large_graph(comms, graph, layout, target_file):\n",
      "    palette = ClusterColoringPalette(len(comms))\n",
      "    color = [palette.get(i) for i in comms.membership]\n",
      "    plot(graph, layout=layout,\n",
      "            bbox=(3600, 2400),\n",
      "            target=target_file,\n",
      "            vertex_color=color,    \n",
      "            vertex_label_size = 36,\n",
      "            vertex_label = graph.vs['name'],\n",
      "            edge_color = 'gray'\n",
      "            )\n",
      "    return None\n",
      "\n",
      "plot_large_graph(LL_communities, LL_graph, inner_layout, 'plot_large.svg')"
     ],
     "language": "python",
     "metadata": {},
     "outputs": [],
     "prompt_number": 27
    },
    {
     "cell_type": "markdown",
     "metadata": {},
     "source": [
      "And, finally, let's take a look at how to export our graph to Gephi, just in case you want to pretty it up there."
     ]
    },
    {
     "cell_type": "code",
     "collapsed": false,
     "input": [
      "def export_to_Gephi(graph, comms, destination, layout):\n",
      "    graph.vs[\"community\"] = [str(m) for m in comms.membership]  # Trick gephi\n",
      "    for vertex, coords in enumerate(layout):\n",
      "        x, y = coords\n",
      "        graph.vs[vertex][\"x\"], graph.vs[vertex][\"y\"] = x * 100, -y * 100  # Gephi uses flipped Y coordinate\n",
      "    save(graph, destination)\n",
      "    return None\n",
      "\n",
      "export_to_Gephi(LL_graph, LL_communities, 'LL_NT.graphml', inner_layout)"
     ],
     "language": "python",
     "metadata": {},
     "outputs": [],
     "prompt_number": 28
    },
    {
     "cell_type": "markdown",
     "metadata": {},
     "source": [
      "Now open up the resulting file in Gephi and make it look like you want!"
     ]
    },
    {
     "cell_type": "heading",
     "level": 1,
     "metadata": {},
     "source": [
      "Play Time!"
     ]
    },
    {
     "cell_type": "markdown",
     "metadata": {},
     "source": [
      "You now have all the functions you need to create graphs centered around a single word and those containing all the data.  So use the co-occurrence, log-likelihood, and cosine-similarity data that you have produced in the last two days to create your own graphs.  Experiment with layouts, settings, etc., to create something that you like."
     ]
    }
   ],
   "metadata": {}
  }
 ]
}