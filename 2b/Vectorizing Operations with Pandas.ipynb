{
 "metadata": {
  "name": ""
 },
 "nbformat": 3,
 "nbformat_minor": 0,
 "worksheets": [
  {
   "cells": [
    {
     "cell_type": "heading",
     "level": 1,
     "metadata": {},
     "source": [
      "Vectorizing Operations with Pandas: Speed Galore!"
     ]
    },
    {
     "cell_type": "markdown",
     "metadata": {},
     "source": [
      "Often, when you have your data in a Pandas DataFrame or a Numpy ndarray, you want to perform some sort of operation on every cell in your data frame.  You could loop over it, and sometimes you may have to.  But you should always try to vectorize your operations since this takes advantage of the Pandas/Numpy system of (arrayed) vectors.<br>\n",
      "Let's jump right in."
     ]
    },
    {
     "cell_type": "code",
     "collapsed": false,
     "input": [
      "import pandas as pd\n",
      "import numpy as np\n",
      "#First, we create an 8x8 array of random integers.\n",
      "df = pd.DataFrame(data = np.random.randint(0, 100, size = (8,8)), index = ('a', 'b', 'c', 'd', 'e', 'f', 'g', 'h'))\n",
      "print(df) #since we are using random numbers, your array will always be different."
     ],
     "language": "python",
     "metadata": {},
     "outputs": [
      {
       "output_type": "stream",
       "stream": "stdout",
       "text": [
        "    0   1   2   3   4   5   6   7\n",
        "a  74  11  49  77  90  79  39  97\n",
        "b  39  10  40  63  39  60  43  25\n",
        "c  45  51  55  30  20  45  74  72\n",
        "d  87   7  89  21  44  91  43  94\n",
        "e  46  43  35  50  15  65   7  48\n",
        "f  32  73  34   7  11  95  71  73\n",
        "g   7  79  32  69  22  31  90  86\n",
        "h  84  59  34  59  28  74  24  73\n",
        "\n",
        "[8 rows x 8 columns]\n"
       ]
      }
     ],
     "prompt_number": 1
    },
    {
     "cell_type": "markdown",
     "metadata": {},
     "source": [
      "Now, as mentioned in the introduction, if we wanted to multiply every cell by 2, we could loop through each row and then each column of the DataFrame, multiply everything by two, and then return the result.  Something like this."
     ]
    },
    {
     "cell_type": "code",
     "collapsed": false,
     "input": [
      "def times_2():\n",
      "    global df2\n",
      "    val_dict = {}\n",
      "    for index, values in df.iterrows():\n",
      "        val_dict[index] = []\n",
      "        for value in values:\n",
      "            val_dict[index].append(value * 2)\n",
      "    df2 = pd.DataFrame(val_dict).T # transposes the df since dictionary elements are read as columns instead of rows.\n",
      "    df2.index = df.index\n",
      "    df2.columns = df.columns\n",
      "    return df2\n",
      "times_2()\n",
      "print(df2)"
     ],
     "language": "python",
     "metadata": {},
     "outputs": [
      {
       "output_type": "stream",
       "stream": "stdout",
       "text": [
        "     0    1    2    3    4    5    6    7\n",
        "a  148   22   98  154  180  158   78  194\n",
        "b   78   20   80  126   78  120   86   50\n",
        "c   90  102  110   60   40   90  148  144\n",
        "d  174   14  178   42   88  182   86  188\n",
        "e   92   86   70  100   30  130   14   96\n",
        "f   64  146   68   14   22  190  142  146\n",
        "g   14  158   64  138   44   62  180  172\n",
        "h  168  118   68  118   56  148   48  146\n",
        "\n",
        "[8 rows x 8 columns]\n"
       ]
      }
     ],
     "prompt_number": 2
    },
    {
     "cell_type": "markdown",
     "metadata": {},
     "source": [
      "But this is not a very efficient way to perform this operation.  Let's take a look at an easier and faster way to do this: vectorizing."
     ]
    },
    {
     "cell_type": "code",
     "collapsed": false,
     "input": [
      "df3 = df * 2\n",
      "print(df)\n",
      "print(df3)\n",
      "print(df3 == df2) # element-wise comparison\n",
      "print(df3.all() == df2.all()) # column-wise comparison\n",
      "print(df3.all(axis = 1) == df2.all(axis = 1)) # row-wise comparison"
     ],
     "language": "python",
     "metadata": {},
     "outputs": [
      {
       "output_type": "stream",
       "stream": "stdout",
       "text": [
        "    0   1   2   3   4   5   6   7\n",
        "a  74  11  49  77  90  79  39  97\n",
        "b  39  10  40  63  39  60  43  25\n",
        "c  45  51  55  30  20  45  74  72\n",
        "d  87   7  89  21  44  91  43  94\n",
        "e  46  43  35  50  15  65   7  48\n",
        "f  32  73  34   7  11  95  71  73\n",
        "g   7  79  32  69  22  31  90  86\n",
        "h  84  59  34  59  28  74  24  73\n",
        "\n",
        "[8 rows x 8 columns]\n",
        "     0    1    2    3    4    5    6    7\n",
        "a  148   22   98  154  180  158   78  194\n",
        "b   78   20   80  126   78  120   86   50\n",
        "c   90  102  110   60   40   90  148  144\n",
        "d  174   14  178   42   88  182   86  188\n",
        "e   92   86   70  100   30  130   14   96\n",
        "f   64  146   68   14   22  190  142  146\n",
        "g   14  158   64  138   44   62  180  172\n",
        "h  168  118   68  118   56  148   48  146\n",
        "\n",
        "[8 rows x 8 columns]\n",
        "      0     1     2     3     4     5     6     7\n",
        "a  True  True  True  True  True  True  True  True\n",
        "b  True  True  True  True  True  True  True  True\n",
        "c  True  True  True  True  True  True  True  True\n",
        "d  True  True  True  True  True  True  True  True\n",
        "e  True  True  True  True  True  True  True  True\n",
        "f  True  True  True  True  True  True  True  True\n",
        "g  True  True  True  True  True  True  True  True\n",
        "h  True  True  True  True  True  True  True  True\n",
        "\n",
        "[8 rows x 8 columns]\n",
        "0    True\n",
        "1    True\n",
        "2    True\n",
        "3    True\n",
        "4    True\n",
        "5    True\n",
        "6    True\n",
        "7    True\n",
        "dtype: bool\n",
        "a    True\n",
        "b    True\n",
        "c    True\n",
        "d    True\n",
        "e    True\n",
        "f    True\n",
        "g    True\n",
        "h    True\n",
        "dtype: bool\n"
       ]
      }
     ],
     "prompt_number": 3
    },
    {
     "cell_type": "markdown",
     "metadata": {},
     "source": [
      "Not only does the code take much less time to write, it also takes much less time to run.  Check it out."
     ]
    },
    {
     "cell_type": "code",
     "collapsed": false,
     "input": [
      "from timeit import timeit\n",
      "print(timeit('times_2()', 'from __main__ import df, times_2', number = 1000))\n",
      "print(timeit('df * 2', 'from __main__ import df', number = 1000))"
     ],
     "language": "python",
     "metadata": {},
     "outputs": [
      {
       "output_type": "stream",
       "stream": "stdout",
       "text": [
        "0.8491370629999437\n",
        "0.04709117999937007"
       ]
      },
      {
       "output_type": "stream",
       "stream": "stdout",
       "text": [
        "\n"
       ]
      }
     ],
     "prompt_number": 4
    },
    {
     "cell_type": "markdown",
     "metadata": {},
     "source": [
      "Look at the difference! On my computer, vectorizing the operation (the second one) is about 19x faster than the loop.  This is why you should always try to vectorize your operations if you have a large data set.<br>\n",
      "You can also perform arithmetic operations between objects in a vectorized manner."
     ]
    },
    {
     "cell_type": "code",
     "collapsed": false,
     "input": [
      "print(df + df3)\n",
      "df4 = df + df3\n",
      "print(type(df4.ix[0,0]))\n",
      "print(df - df3)\n",
      "print(-df)\n",
      "print(df * df3)\n",
      "print(df / df3)\n",
      "print(1//2)"
     ],
     "language": "python",
     "metadata": {},
     "outputs": [
      {
       "output_type": "stream",
       "stream": "stdout",
       "text": [
        "     0    1    2    3    4    5    6    7\n",
        "a  222   33  147  231  270  237  117  291\n",
        "b  117   30  120  189  117  180  129   75\n",
        "c  135  153  165   90   60  135  222  216\n",
        "d  261   21  267   63  132  273  129  282\n",
        "e  138  129  105  150   45  195   21  144\n",
        "f   96  219  102   21   33  285  213  219\n",
        "g   21  237   96  207   66   93  270  258\n",
        "h  252  177  102  177   84  222   72  219\n",
        "\n",
        "[8 rows x 8 columns]\n",
        "<class 'numpy.int64'>\n",
        "    0   1   2   3   4   5   6   7\n",
        "a -74 -11 -49 -77 -90 -79 -39 -97\n",
        "b -39 -10 -40 -63 -39 -60 -43 -25\n",
        "c -45 -51 -55 -30 -20 -45 -74 -72\n",
        "d -87  -7 -89 -21 -44 -91 -43 -94\n",
        "e -46 -43 -35 -50 -15 -65  -7 -48\n",
        "f -32 -73 -34  -7 -11 -95 -71 -73\n",
        "g  -7 -79 -32 -69 -22 -31 -90 -86\n",
        "h -84 -59 -34 -59 -28 -74 -24 -73\n",
        "\n",
        "[8 rows x 8 columns]\n",
        "    0   1   2   3   4   5   6   7\n",
        "a -74 -11 -49 -77 -90 -79 -39 -97\n",
        "b -39 -10 -40 -63 -39 -60 -43 -25\n",
        "c -45 -51 -55 -30 -20 -45 -74 -72\n",
        "d -87  -7 -89 -21 -44 -91 -43 -94\n",
        "e -46 -43 -35 -50 -15 -65  -7 -48\n",
        "f -32 -73 -34  -7 -11 -95 -71 -73\n",
        "g  -7 -79 -32 -69 -22 -31 -90 -86\n",
        "h -84 -59 -34 -59 -28 -74 -24 -73\n",
        "\n",
        "[8 rows x 8 columns]\n",
        "       0      1      2      3      4      5      6      7\n",
        "a  10952    242   4802  11858  16200  12482   3042  18818\n",
        "b   3042    200   3200   7938   3042   7200   3698   1250\n",
        "c   4050   5202   6050   1800    800   4050  10952  10368\n",
        "d  15138     98  15842    882   3872  16562   3698  17672\n",
        "e   4232   3698   2450   5000    450   8450     98   4608\n",
        "f   2048  10658   2312     98    242  18050  10082  10658\n",
        "g     98  12482   2048   9522    968   1922  16200  14792\n",
        "h  14112   6962   2312   6962   1568  10952   1152  10658\n",
        "\n",
        "[8 rows x 8 columns]\n",
        "     0    1    2    3    4    5    6    7\n",
        "a  0.5  0.5  0.5  0.5  0.5  0.5  0.5  0.5\n",
        "b  0.5  0.5  0.5  0.5  0.5  0.5  0.5  0.5\n",
        "c  0.5  0.5  0.5  0.5  0.5  0.5  0.5  0.5\n",
        "d  0.5  0.5  0.5  0.5  0.5  0.5  0.5  0.5\n",
        "e  0.5  0.5  0.5  0.5  0.5  0.5  0.5  0.5\n",
        "f  0.5  0.5  0.5  0.5  0.5  0.5  0.5  0.5\n",
        "g  0.5  0.5  0.5  0.5  0.5  0.5  0.5  0.5\n",
        "h  0.5  0.5  0.5  0.5  0.5  0.5  0.5  0.5\n",
        "\n",
        "[8 rows x 8 columns]\n",
        "0\n"
       ]
      }
     ],
     "prompt_number": 5
    },
    {
     "cell_type": "markdown",
     "metadata": {},
     "source": [
      "But what happens with exponents?"
     ]
    },
    {
     "cell_type": "code",
     "collapsed": false,
     "input": [
      "print(df ** df3)\n",
      "print(type(df.ix[0,0]))"
     ],
     "language": "python",
     "metadata": {},
     "outputs": [
      {
       "output_type": "stream",
       "stream": "stdout",
       "text": [
        "                     0                    1                    2  \\\n",
        "a -9223372036854775808 -9223372036854775808 -9223372036854775808   \n",
        "b -9223372036854775808 -9223372036854775808 -9223372036854775808   \n",
        "c -9223372036854775808 -9223372036854775808 -9223372036854775808   \n",
        "d -9223372036854775808         678223072849 -9223372036854775808   \n",
        "e -9223372036854775808 -9223372036854775808 -9223372036854775808   \n",
        "f -9223372036854775808 -9223372036854775808 -9223372036854775808   \n",
        "g         678223072849 -9223372036854775808 -9223372036854775808   \n",
        "h -9223372036854775808 -9223372036854775808 -9223372036854775808   \n",
        "\n",
        "                     3                    4                    5  \\\n",
        "a -9223372036854775808 -9223372036854775808 -9223372036854775808   \n",
        "b -9223372036854775808 -9223372036854775808 -9223372036854775808   \n",
        "c -9223372036854775808 -9223372036854775808 -9223372036854775808   \n",
        "d -9223372036854775808 -9223372036854775808 -9223372036854775808   \n",
        "e -9223372036854775808 -9223372036854775808 -9223372036854775808   \n",
        "f         678223072849 -9223372036854775808 -9223372036854775808   \n",
        "g -9223372036854775808 -9223372036854775808 -9223372036854775808   \n",
        "h -9223372036854775808 -9223372036854775808 -9223372036854775808   \n",
        "\n",
        "                     6                    7  \n",
        "a -9223372036854775808 -9223372036854775808  \n",
        "b -9223372036854775808 -9223372036854775808  \n",
        "c -9223372036854775808 -9223372036854775808  \n",
        "d -9223372036854775808 -9223372036854775808  \n",
        "e         678223072849 -9223372036854775808  \n",
        "f -9223372036854775808 -9223372036854775808  \n",
        "g -9223372036854775808 -9223372036854775808  \n",
        "h -9223372036854775808 -9223372036854775808  \n",
        "\n",
        "[8 rows x 8 columns]\n",
        "<class 'numpy.int64'>\n"
       ]
      }
     ],
     "prompt_number": 6
    },
    {
     "cell_type": "markdown",
     "metadata": {},
     "source": [
      "The problem is that we have reached the limit of the numpy.int64 object.  We can get a larger range of number if we switch to the numpy.float64 object type.<br>\n",
      "Note, if you have a Unix based system, then you can also use the numpy.float128 type.  As far as I know, this is not available on Windows systems."
     ]
    },
    {
     "cell_type": "code",
     "collapsed": true,
     "input": [
      "df_exp = np.float64(df) ** df3 #Notice that we only need to invoke float64 on one of the objects and it affects our answer.\n",
      "print(df_exp)\n",
      "# and to check and make sure our answers are correct:\n",
      "for x in range(8):\n",
      "    for y in range(8):\n",
      "        print(np.float64(df.ix[x, y]) ** df3.ix[x, y] == df_exp.ix[x, y])"
     ],
     "language": "python",
     "metadata": {},
     "outputs": [
      {
       "output_type": "stream",
       "stream": "stdout",
       "text": [
        "               0              1              2              3              4  \\\n",
        "a  4.428886e+276   8.140275e+22  4.357284e+165  3.308047e+290            inf   \n",
        "b  1.267767e+124   1.000000e+20  1.461502e+128  5.210858e+226  1.267767e+124   \n",
        "c  6.153557e+148  1.486476e+174  2.753568e+191   4.239116e+88   1.099512e+52   \n",
        "d            inf   6.782231e+11            inf   3.413582e+55  4.205673e+144   \n",
        "e  9.412836e+152  3.008065e+140  1.215523e+108  7.888609e+169   1.917511e+35   \n",
        "f   2.135987e+96  1.109526e+272  1.382186e+104   6.782231e+11   8.140275e+22   \n",
        "g   6.782231e+11  6.684677e+299   2.135987e+96  5.769983e+253   1.165730e+59   \n",
        "h            inf  9.131400e+208  1.382186e+104  9.131400e+208   1.098626e+81   \n",
        "\n",
        "               5              6              7  \n",
        "a  6.684677e+299  1.267767e+124            inf  \n",
        "b  2.388636e+213  3.008065e+140   7.888609e+69  \n",
        "c  6.153557e+148  4.428886e+276  2.856798e+267  \n",
        "d            inf  3.008065e+140            inf  \n",
        "e  4.772395e+235   6.782231e+11  2.507026e+161  \n",
        "f            inf  7.562851e+262  1.109526e+272  \n",
        "g   2.913567e+92            inf            inf  \n",
        "h  4.428886e+276   1.778851e+66  1.109526e+272  \n",
        "\n",
        "[8 rows x 8 columns]\n",
        "True\n",
        "True\n",
        "True\n",
        "True\n",
        "True\n",
        "True\n",
        "True\n",
        "True\n",
        "True\n",
        "True\n",
        "True\n",
        "True\n",
        "True\n",
        "True\n",
        "True\n",
        "True\n",
        "True\n",
        "True\n",
        "True\n",
        "True\n",
        "True\n",
        "True\n",
        "True\n",
        "True\n",
        "True\n",
        "True\n",
        "True\n",
        "True\n",
        "True\n",
        "True\n",
        "True\n",
        "True\n",
        "True\n",
        "True\n",
        "True\n",
        "True\n",
        "True\n",
        "True\n",
        "True\n",
        "True\n",
        "True\n",
        "True\n",
        "True\n",
        "True\n",
        "True\n",
        "True\n",
        "True\n",
        "True\n",
        "True\n",
        "True\n",
        "True\n",
        "True\n",
        "True\n",
        "True\n",
        "True\n",
        "True\n",
        "True\n",
        "True\n",
        "True\n",
        "True\n",
        "True\n",
        "True\n",
        "True\n",
        "True\n"
       ]
      }
     ],
     "prompt_number": 7
    },
    {
     "cell_type": "heading",
     "level": 1,
     "metadata": {},
     "source": [
      "I need to change this to show the `axis` parameter on the `mean` function."
     ]
    },
    {
     "cell_type": "markdown",
     "metadata": {},
     "source": [
      "If we want to apply a function to each column of a DataFrame, we can simply call the method.<br>\n",
      "If, however, we want to apply it row-wise, we need to call the apply method on the df."
     ]
    },
    {
     "cell_type": "code",
     "collapsed": false,
     "input": [
      "print(np.mean(df, axis = 1)) #This applies column-wise.\n",
      "print('Vectorized function takes %s seconds' % timeit('np.mean(df)', 'from __main__ import df, np', number = 1000))\n",
      "print(df.apply(np.mean, axis = 1)) #This applies the function row-wise.\n",
      "print('Apply method takes %s seconds' % timeit('df.apply(np.mean, axis = 1)', 'from __main__ import df, np', number = 1000))"
     ],
     "language": "python",
     "metadata": {},
     "outputs": [
      {
       "output_type": "stream",
       "stream": "stdout",
       "text": [
        "a    64.500\n",
        "b    39.875\n",
        "c    49.000\n",
        "d    59.500\n",
        "e    38.625\n",
        "f    49.500\n",
        "g    52.000\n",
        "h    54.375\n",
        "dtype: float64\n",
        "Vectorized function takes 0.04236390899950493 seconds\n",
        "a    64.500\n",
        "b    39.875\n",
        "c    49.000\n",
        "d    59.500\n",
        "e    38.625\n",
        "f    49.500\n",
        "g    52.000\n",
        "h    54.375\n",
        "dtype: float64\n",
        "Apply method takes 0.5633656790005261 seconds"
       ]
      },
      {
       "output_type": "stream",
       "stream": "stdout",
       "text": [
        "\n"
       ]
      }
     ],
     "prompt_number": 14
    },
    {
     "cell_type": "markdown",
     "metadata": {},
     "source": [
      "Notice how much longer the apply method takes.  So, unless you really have to do things row-wise, simply vectorize your operations."
     ]
    },
    {
     "cell_type": "markdown",
     "metadata": {},
     "source": [
      "You can also apply a Pandas Series (or even scalar values) to a DataFrame element-wise."
     ]
    },
    {
     "cell_type": "code",
     "collapsed": false,
     "input": [
      "s = pd.Series(np.random.randint(0, 8, size = 8))\n",
      "print(s)\n",
      "print(df)\n",
      "print(df * s) #notice this applies the Series row-wise, not column-wise.\n",
      "print(df * 5)"
     ],
     "language": "python",
     "metadata": {},
     "outputs": [
      {
       "output_type": "stream",
       "stream": "stdout",
       "text": [
        "0    2\n",
        "1    1\n",
        "2    4\n",
        "3    3\n",
        "4    5\n",
        "5    0\n",
        "6    4\n",
        "7    1\n",
        "dtype: int64\n",
        "    0   1   2   3   4   5   6   7\n",
        "a  74  11  49  77  90  79  39  97\n",
        "b  39  10  40  63  39  60  43  25\n",
        "c  45  51  55  30  20  45  74  72\n",
        "d  87   7  89  21  44  91  43  94\n",
        "e  46  43  35  50  15  65   7  48\n",
        "f  32  73  34   7  11  95  71  73\n",
        "g   7  79  32  69  22  31  90  86\n",
        "h  84  59  34  59  28  74  24  73\n",
        "\n",
        "[8 rows x 8 columns]\n",
        "     0   1    2    3    4  5    6   7\n",
        "a  148  11  196  231  450  0  156  97\n",
        "b   78  10  160  189  195  0  172  25\n",
        "c   90  51  220   90  100  0  296  72\n",
        "d  174   7  356   63  220  0  172  94\n",
        "e   92  43  140  150   75  0   28  48\n",
        "f   64  73  136   21   55  0  284  73\n",
        "g   14  79  128  207  110  0  360  86\n",
        "h  168  59  136  177  140  0   96  73\n",
        "\n",
        "[8 rows x 8 columns]\n",
        "     0    1    2    3    4    5    6    7\n",
        "a  370   55  245  385  450  395  195  485\n",
        "b  195   50  200  315  195  300  215  125\n",
        "c  225  255  275  150  100  225  370  360\n",
        "d  435   35  445  105  220  455  215  470\n",
        "e  230  215  175  250   75  325   35  240\n",
        "f  160  365  170   35   55  475  355  365\n",
        "g   35  395  160  345  110  155  450  430\n",
        "h  420  295  170  295  140  370  120  365\n",
        "\n",
        "[8 rows x 8 columns]\n"
       ]
      }
     ],
     "prompt_number": 9
    },
    {
     "cell_type": "markdown",
     "metadata": {},
     "source": [
      "And notice what happens if your Series (or DataFrame) is a different size than your original."
     ]
    },
    {
     "cell_type": "code",
     "collapsed": false,
     "input": [
      "s2 = pd.Series(np.random.randint(0, 8, size = 3))\n",
      "print(s2)\n",
      "print(df)\n",
      "print(df * s2)"
     ],
     "language": "python",
     "metadata": {},
     "outputs": [
      {
       "output_type": "stream",
       "stream": "stdout",
       "text": [
        "0    4\n",
        "1    2\n",
        "2    5\n",
        "dtype: int64\n",
        "    0   1   2   3   4   5   6   7\n",
        "a  74  11  49  77  90  79  39  97\n",
        "b  39  10  40  63  39  60  43  25\n",
        "c  45  51  55  30  20  45  74  72\n",
        "d  87   7  89  21  44  91  43  94\n",
        "e  46  43  35  50  15  65   7  48\n",
        "f  32  73  34   7  11  95  71  73\n",
        "g   7  79  32  69  22  31  90  86\n",
        "h  84  59  34  59  28  74  24  73\n",
        "\n",
        "[8 rows x 8 columns]\n",
        "     0    1    2   3   4   5   6   7\n",
        "a  296   22  245 NaN NaN NaN NaN NaN\n",
        "b  156   20  200 NaN NaN NaN NaN NaN\n",
        "c  180  102  275 NaN NaN NaN NaN NaN\n",
        "d  348   14  445 NaN NaN NaN NaN NaN\n",
        "e  184   86  175 NaN NaN NaN NaN NaN\n",
        "f  128  146  170 NaN NaN NaN NaN NaN\n",
        "g   28  158  160 NaN NaN NaN NaN NaN\n",
        "h  336  118  170 NaN NaN NaN NaN NaN\n",
        "\n",
        "[8 rows x 8 columns]\n"
       ]
      }
     ],
     "prompt_number": 10
    },
    {
     "cell_type": "markdown",
     "metadata": {},
     "source": [
      "Now that you have an idea of how vectorization works, it's your turn.<br>\n",
      "Create two 20x20 DataFrames and fill them with random integers between 0 and 50.<br>\n",
      "Now find the differences in the means of the rows of the DataFrames.  So you should print out a Series that shows, e.g., the mean values of row 1 of DataFrame 1 minus the mean of the values of row 1 of DataFrame 2.  The Series should be 20 elements long."
     ]
    },
    {
     "cell_type": "code",
     "collapsed": false,
     "input": [
      "#Insert your code here"
     ],
     "language": "python",
     "metadata": {},
     "outputs": [],
     "prompt_number": 11
    },
    {
     "cell_type": "markdown",
     "metadata": {},
     "source": [
      "For your week 5 homework, you constructed a term-document matrix for several books.  I want you to take this term-document matrix (__NOT THE TF-IDF MATRIX__) and perform the following statistical operation on it:<br>\n",
      "Calculate the probability (p) of each term within each document.  In this case, p = c/N, where c == the number of times the word occurs in the text and N == the total number of words in the text.  Your result should be a matrix of the same size as the original term-document matrix."
     ]
    },
    {
     "cell_type": "code",
     "collapsed": false,
     "input": [
      "#Insert your code here."
     ],
     "language": "python",
     "metadata": {},
     "outputs": [],
     "prompt_number": 12
    },
    {
     "cell_type": "markdown",
     "metadata": {},
     "source": [
      "For your week 6 homework, you calculated a co-occurrence matrix for several of the above-mentioned texts.  Now I want you to use these matrices along with the term-document matrices mentioned above to calculate the probability (p2) that two words co-occur given that the target word occurs.<br>\n",
      "In this case, p2 = c12/c1, where c12 == the number of co-occurrences of word1 with word 2 and c1 == the number of times that word1 (the target word) occurs.  The result should be a matrix for each document of the same size as the original matrix.<br>\n",
      "Your code should also produce output files that I can produce myself and check.  Don't worry about pushing your output files to Github.  If your code works, I should be able to reproduce them myself.<br>\n",
      "__NB: I expect this to be difficult.  Make sure that you look at your results to make sure that they make sense.  E.g., if you get values here (or in the previous activity) that are more than 1.0 or less than 0.0, something is wrong.  Figure out what.__"
     ]
    },
    {
     "cell_type": "code",
     "collapsed": false,
     "input": [
      "#Insert your code here."
     ],
     "language": "python",
     "metadata": {},
     "outputs": [],
     "prompt_number": 13
    }
   ],
   "metadata": {}
  }
 ]
}