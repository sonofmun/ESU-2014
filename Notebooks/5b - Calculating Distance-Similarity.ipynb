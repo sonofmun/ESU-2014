{
 "metadata": {
  "name": ""
 },
 "nbformat": 3,
 "nbformat_minor": 0,
 "worksheets": [
  {
   "cells": [
    {
     "cell_type": "heading",
     "level": 1,
     "metadata": {},
     "source": [
      "The formula"
     ]
    },
    {
     "cell_type": "markdown",
     "metadata": {},
     "source": [
      "$$similarity = cos(\\theta) = \\frac{A \\cdot B}{\\|A\\|\\|B\\|} = \\frac{\\displaystyle \\sum_{i=1}^{n} A_i \\times B_i}{\\displaystyle \\sqrt {\\displaystyle \\sum_{i=1}^{n} (A_i)^2} \\displaystyle \\sqrt {\\displaystyle \\sum_{i=1}^{n} (B_i)^2}}$$"
     ]
    },
    {
     "cell_type": "heading",
     "level": 1,
     "metadata": {},
     "source": [
      "Implement the numerator"
     ]
    },
    {
     "cell_type": "markdown",
     "metadata": {},
     "source": [
      "$$\\sum_{i=1}^{n} A_i \\times B_i$$"
     ]
    },
    {
     "cell_type": "markdown",
     "metadata": {},
     "source": [
      "For every element $1 \\dots n$, we should multiply the value of that element in array (Series) $A$ with the value for that same element in array $B$ and then sum all of these values.<br>\n",
      "Implement a function below that takes as input two Series $A$ and $B$ and returns the value required for the numerator of the equation."
     ]
    },
    {
     "cell_type": "code",
     "collapsed": false,
     "input": [
      "import pandas as pd\n",
      "\n",
      "def CS_num(A,B):\n",
      "    #insert your code here\n",
      "    \n",
      "\n",
      "# Run the code below to check your code.\n",
      "df = pd.read_pickle('test_LL.pickle')\n",
      "print(CS_num(df.ix[0], df.ix[1]))"
     ],
     "language": "python",
     "metadata": {},
     "outputs": []
    },
    {
     "cell_type": "heading",
     "level": 1,
     "metadata": {},
     "source": [
      "Implement denominator"
     ]
    },
    {
     "cell_type": "markdown",
     "metadata": {},
     "source": [
      "$$\\sqrt {\\sum_{i=1}^{n} (A_i)^2} \\sqrt {\\sum_{i=1}^{n} (B_i)^2}$$"
     ]
    },
    {
     "cell_type": "heading",
     "level": 2,
     "metadata": {},
     "source": [
      "Part I: $\\sqrt {\\sum\\limits_{i=1}^{n} (A_i)^2}$"
     ]
    },
    {
     "cell_type": "markdown",
     "metadata": {},
     "source": [
      "Similar to the numerator, we want to multiply each value in Series $A$ by itself, and then find the sum of all of these values.<br>\n",
      "Write a function below that will take as input a Series $A$ and will return the appropriate value for the first half of the denominator of our cosine similarity equation."
     ]
    },
    {
     "cell_type": "code",
     "collapsed": false,
     "input": [
      "def CS_den_part(A):\n",
      "    #insert your code here\n",
      "    \n",
      "#The lines below are to check your code for errors.\n",
      "print(CS_den(df.ix[0]))"
     ],
     "language": "python",
     "metadata": {},
     "outputs": []
    },
    {
     "cell_type": "heading",
     "level": 2,
     "metadata": {},
     "source": [
      "Part II: $\\sqrt {\\sum\\limits_{i=1}^{n} (B_i)^2}$"
     ]
    },
    {
     "cell_type": "markdown",
     "metadata": {},
     "source": [
      "A brief look at the second square root in the denominator should demonstrate that we do can use our previous function (`CS_den_part`) to calculate the second part of the denominator as well as the first."
     ]
    },
    {
     "cell_type": "heading",
     "level": 2,
     "metadata": {},
     "source": [
      "Part III: Bring it together"
     ]
    },
    {
     "cell_type": "markdown",
     "metadata": {},
     "source": [
      "The last pre-calculation for our cosine similarity equation is to bring the two parts of the denominator together.  Define a function below that will take two Series $A$ and $B$ and call the `CS_den_part` function above to do the appropriate calculations and will return the necessary value for the denominator."
     ]
    },
    {
     "cell_type": "code",
     "collapsed": false,
     "input": [
      "def CS_den(A, B):\n",
      "    #insert your code here\n",
      "    \n",
      "#The lines below are to check your code for errors.\n",
      "print(CS_den(df.ix[0], df.ix[1]))"
     ],
     "language": "python",
     "metadata": {},
     "outputs": []
    },
    {
     "cell_type": "heading",
     "level": 1,
     "metadata": {},
     "source": [
      "Calculate"
     ]
    },
    {
     "cell_type": "markdown",
     "metadata": {},
     "source": [
      "In order to do the final calculation of our cosine similarity score, we need to write a function that will take two Series $A$ and $B$ as input, call the appropriate functions to do the calculations for the parts of the CS equation, and return a single number that is the cosine similarity of the two Series."
     ]
    },
    {
     "cell_type": "code",
     "collapsed": false,
     "input": [
      "def cos_sim(A,B):\n",
      "    #insert your code here\n",
      "    \n",
      "#The lines below are to check your code for errors.\n",
      "print(cos_sim(df.ix[0], df.ix[1]))"
     ],
     "language": "python",
     "metadata": {},
     "outputs": []
    },
    {
     "cell_type": "heading",
     "level": 1,
     "metadata": {},
     "source": [
      "Construct the matrix of answers."
     ]
    },
    {
     "cell_type": "markdown",
     "metadata": {},
     "source": [
      "Now, finally, we need to wrap everything we have done above in a function that takes a matrix of arrays (DataFrame) $DF\\_LL$, performs the necessary calculations to calculate the CS of every row with every other row, and builds a new DataFrame $CS\\_DF$ that has the same shape as $DF\\_LL$ but contains the cosine similarity scores for the individual arrays."
     ]
    },
    {
     "cell_type": "code",
     "collapsed": false,
     "input": [
      "def CS_matrix(DF_LL):\n",
      "    #insert your code here\n",
      "    \n",
      "#The lines below are meant to check your function for errors.\n",
      "print(CS_matrix(df))"
     ],
     "language": "python",
     "metadata": {},
     "outputs": []
    },
    {
     "cell_type": "markdown",
     "metadata": {},
     "source": [
      "What do you notice about your matrix?  Do these characteristics that you notice make sense?  Why or why not?"
     ]
    },
    {
     "cell_type": "heading",
     "level": 1,
     "metadata": {},
     "source": [
      "Compare to sklearn"
     ]
    },
    {
     "cell_type": "markdown",
     "metadata": {},
     "source": [
      "Our last step is simply to compare our answers to the cosine _distance_ function in the `sci-kit learn` package.  This function is _extremely_ easy to implement.  It is done like this:"
     ]
    },
    {
     "cell_type": "code",
     "collapsed": false,
     "input": [
      "from sklearn.metrics.pairwise import pairwise_distances\n",
      "print(pairwise_distances(df))"
     ],
     "language": "python",
     "metadata": {},
     "outputs": []
    },
    {
     "cell_type": "markdown",
     "metadata": {},
     "source": [
      "And not only is it easier, but it is also faster.  Check this out."
     ]
    },
    {
     "cell_type": "code",
     "collapsed": false,
     "input": [
      "from timeit import timeit\n",
      "\n",
      "print('1000 iterations of sklearn takes %s seconds' % \n",
      "      timeit('pairwise_distances(df)', \n",
      "             'from __main__ import pairwise_distances, df',\n",
      "             number = 1000))\n",
      "print('1000 iterations of our function takes %s seconds' % \n",
      "      timeit('CS_matrix(df)', \n",
      "             '''from __main__ import CS_matrix, \n",
      "             CS_num, CS_den_part, CS_den, cos_sim''',\n",
      "             number = 1000))"
     ],
     "language": "python",
     "metadata": {},
     "outputs": []
    },
    {
     "cell_type": "markdown",
     "metadata": {},
     "source": [
      "But how about the results?  Write a function below that takes as input an LL DataFrame and compares the results of our function with that of the sklearn function, returning `True` if they are equal and `False` if they are not.\n",
      "\n",
      "__Note:__ $similarity = 1-difference$"
     ]
    },
    {
     "cell_type": "code",
     "collapsed": false,
     "input": [
      "def CS_compare(LL_DF):\n",
      "    #insert your code here\n",
      "    \n",
      "#The following lines are to check your function for errors.\n",
      "print(CS_compare(df))"
     ],
     "language": "python",
     "metadata": {},
     "outputs": []
    }
   ],
   "metadata": {}
  }
 ]
}