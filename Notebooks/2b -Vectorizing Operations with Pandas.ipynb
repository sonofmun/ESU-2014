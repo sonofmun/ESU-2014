{
 "metadata": {
  "name": "",
  "signature": "sha256:6a2e2069ce476ac93edd8377bfb39bdab805995ad51937ad96dd5a368e95b8eb"
 },
 "nbformat": 3,
 "nbformat_minor": 0,
 "worksheets": [
  {
   "cells": [
    {
     "cell_type": "heading",
     "level": 1,
     "metadata": {},
     "source": [
      "Vectorizing Operations with Pandas: Speed Galore!"
     ]
    },
    {
     "cell_type": "markdown",
     "metadata": {},
     "source": [
      "Often, when you have your data in a Pandas DataFrame or a Numpy ndarray, you want to perform some sort of operation on every cell in your data frame.  You could loop over it, and sometimes you may have to.  But you should always try to *vectorize* your operations since this takes advantage of the Pandas/Numpy system of (arrayed) vectors.\n",
      "\n",
      "Let's jump right in."
     ]
    },
    {
     "cell_type": "code",
     "collapsed": false,
     "input": [
      "import pandas as pd\n",
      "import numpy as np\n",
      "#First, we create an 8x8 array of random integers.\n",
      "df = pd.DataFrame(data = np.random.randint(0, 100, size = (8,8)), index = ('a', 'b', 'c', 'd', 'e', 'f', 'g', 'h'))\n",
      "print(df) #since we are using random numbers, your array will always be different."
     ],
     "language": "python",
     "metadata": {},
     "outputs": []
    },
    {
     "cell_type": "markdown",
     "metadata": {},
     "source": [
      "Now, as mentioned in the introduction, if we wanted to multiply every cell by 2, we could loop through each row and then each column of the DataFrame, multiply everything by two, and then return the result.  Something like this."
     ]
    },
    {
     "cell_type": "code",
     "collapsed": false,
     "input": [
      "def times_2(df):\n",
      "    val_dict = {}\n",
      "    for index, values in df.iterrows():\n",
      "        val_dict[index] = []\n",
      "        for value in values:\n",
      "            val_dict[index].append(value * 2)\n",
      "    df2 = pd.DataFrame(val_dict).T # transposes the df since dictionary elements are read as columns instead of rows.\n",
      "    df2.index = df.index\n",
      "    df2.columns = df.columns\n",
      "    return df2\n",
      "\n",
      "df2 = times_2(df)\n",
      "print(df2)"
     ],
     "language": "python",
     "metadata": {},
     "outputs": []
    },
    {
     "cell_type": "markdown",
     "metadata": {},
     "source": [
      "But this is not a very efficient way to perform this operation.  Let's take a look at an easier and faster way to do this: vectorizing."
     ]
    },
    {
     "cell_type": "code",
     "collapsed": false,
     "input": [
      "df3 = df * 2\n",
      "print(df3)\n",
      "print(df3 == df2) # element-wise comparison\n",
      "print(df3.all() == df2.all()) # column-wise comparison\n",
      "print(df3.all(axis = 1) == df2.all(axis = 1)) # row-wise comparison"
     ],
     "language": "python",
     "metadata": {},
     "outputs": []
    },
    {
     "cell_type": "markdown",
     "metadata": {},
     "source": [
      "Not only does the code take much less time to write (only one line), it also takes much less time to run.  Check it out."
     ]
    },
    {
     "cell_type": "code",
     "collapsed": false,
     "input": [
      "%timeit times_2(df)\n",
      "%timeit df * 2"
     ],
     "language": "python",
     "metadata": {},
     "outputs": []
    },
    {
     "cell_type": "markdown",
     "metadata": {},
     "source": [
      "Look at the difference! On my computer, vectorizing the operation (the second one) is about 19x faster than the loop.  This is why you should always try to vectorize your operations if you have a large data set.<br>\n",
      "You can also perform arithmetic operations between objects in a vectorized manner."
     ]
    },
    {
     "cell_type": "code",
     "collapsed": true,
     "input": [
      "df + df3"
     ],
     "language": "python",
     "metadata": {},
     "outputs": []
    },
    {
     "cell_type": "code",
     "collapsed": false,
     "input": [
      "df - df3"
     ],
     "language": "python",
     "metadata": {},
     "outputs": []
    },
    {
     "cell_type": "code",
     "collapsed": false,
     "input": [
      "-df"
     ],
     "language": "python",
     "metadata": {},
     "outputs": []
    },
    {
     "cell_type": "code",
     "collapsed": false,
     "input": [
      "df * df3"
     ],
     "language": "python",
     "metadata": {},
     "outputs": []
    },
    {
     "cell_type": "code",
     "collapsed": false,
     "input": [
      "df / df3"
     ],
     "language": "python",
     "metadata": {},
     "outputs": []
    },
    {
     "cell_type": "markdown",
     "metadata": {},
     "source": [
      "If we want to apply a function to each column of a DataFrame, we can simply call the method.<br>\n",
      "There is also the `apply` method that applies a function row-wise."
     ]
    },
    {
     "cell_type": "code",
     "collapsed": false,
     "input": [
      "from timeit import timeit\n",
      "\n",
      "print(df.mean(axis = 1)) #This applies column-wise.\n",
      "print('Vectorized function takes %s seconds' % timeit('np.mean(df)', 'from __main__ import df, np', number = 1000))\n",
      "print(df.apply(np.mean, axis = 1)) #This applies the function row-wise.\n",
      "print('Apply method takes %s seconds' % timeit('df.apply(np.mean, axis = 1)', 'from __main__ import df, np', number = 1000))"
     ],
     "language": "python",
     "metadata": {},
     "outputs": []
    },
    {
     "cell_type": "markdown",
     "metadata": {},
     "source": [
      "But notice how much longer the apply method takes.  So while the `apply` method can be useful for functions you implement yourself, you should first check whether there is a function in Pandas that does the same thing because it will almost certainly be faster.\n",
      "\n",
      "Note: we will see this later in the week when we implement our own cosine similarity function."
     ]
    },
    {
     "cell_type": "markdown",
     "metadata": {},
     "source": [
      "You can also apply a Pandas Series (or even scalar values) to a DataFrame element-wise."
     ]
    },
    {
     "cell_type": "code",
     "collapsed": true,
     "input": [
      "s = pd.Series(np.random.randint(0, 8, size = 8))\n",
      "s"
     ],
     "language": "python",
     "metadata": {},
     "outputs": []
    },
    {
     "cell_type": "code",
     "collapsed": true,
     "input": [
      "df"
     ],
     "language": "python",
     "metadata": {},
     "outputs": []
    },
    {
     "cell_type": "code",
     "collapsed": true,
     "input": [
      "df * s"
     ],
     "language": "python",
     "metadata": {},
     "outputs": []
    },
    {
     "cell_type": "code",
     "collapsed": true,
     "input": [
      "df.multiply(s) #this is slightly faster than the above"
     ],
     "language": "python",
     "metadata": {},
     "outputs": []
    },
    {
     "cell_type": "code",
     "collapsed": true,
     "input": [
      "np.multiply(df, s) #the numpy function is about 33% bit faster than either of the previous ones"
     ],
     "language": "python",
     "metadata": {},
     "outputs": []
    },
    {
     "cell_type": "code",
     "collapsed": true,
     "input": [
      "df * 5"
     ],
     "language": "python",
     "metadata": {},
     "outputs": []
    },
    {
     "cell_type": "markdown",
     "metadata": {},
     "source": [
      "And, finally, notice what happens if your Series (or DataFrame) is a different size than your original."
     ]
    },
    {
     "cell_type": "code",
     "collapsed": false,
     "input": [
      "s2 = pd.Series(np.random.randint(0, 8, size = 3))\n",
      "s2"
     ],
     "language": "python",
     "metadata": {},
     "outputs": []
    },
    {
     "cell_type": "code",
     "collapsed": false,
     "input": [
      "df"
     ],
     "language": "python",
     "metadata": {},
     "outputs": []
    },
    {
     "cell_type": "code",
     "collapsed": false,
     "input": [
      "df * s2"
     ],
     "language": "python",
     "metadata": {},
     "outputs": []
    },
    {
     "cell_type": "heading",
     "level": 4,
     "metadata": {},
     "source": [
      "Final Activity:<br><br>\n",
      "Below write a small script that performs the following operations on the two DataFrames:<br>\n",
      "1. Raises every cell in one DataFrame to the power of the corresponding cell in the other, e.g.,<br><br>$\\text{df.ix[0,0]}^{\\textrm{df2.ix[0,0]}}$<br><br>\n",
      "2. Takes the `x`th root of every cell in one DataFrame, where `x` is the number in the corresponding cell in the other DF, e.g.,<br><br>$\\sqrt[\\text{df2.ix[0,0]}]{\\text{df.ix[0,0]}}$<br><br>\n",
      "3. Takes the square root of the cell-wise sums of the DFs, e.g., <br><br>$\\sqrt{\\text{df.ix[0,0]} + \\text{df2.ix[0,0]}}$<br><br>\n",
      "4. Takes the natural log of the result of the each cell in one DF raised to the power of the corresponding cell in the other, e.g.,<br><br>$\\ln(\\text{df.ix[0,0]}^{\\text{df2.ix[0,0]}})$<br><br>\n",
      "_Hint:_ If any of these take more than one line of code or you are using `apply`, you are not vectorizing.  __Try Again!__"
     ]
    },
    {
     "cell_type": "code",
     "collapsed": false,
     "input": [
      "# Insert your code for number 1 here."
     ],
     "language": "python",
     "metadata": {},
     "outputs": []
    },
    {
     "cell_type": "code",
     "collapsed": false,
     "input": [
      "# Insert your code for number 2 here."
     ],
     "language": "python",
     "metadata": {},
     "outputs": []
    },
    {
     "cell_type": "code",
     "collapsed": false,
     "input": [
      "# Insert your code for number 3 here."
     ],
     "language": "python",
     "metadata": {},
     "outputs": []
    },
    {
     "cell_type": "code",
     "collapsed": false,
     "input": [
      "# Insert your code for number 4 here."
     ],
     "language": "python",
     "metadata": {},
     "outputs": []
    },
    {
     "cell_type": "markdown",
     "metadata": {},
     "source": [
      "__Take a close look at your answers__.  If they don't make sense or there are problems with them, figure out why and correct them in your code."
     ]
    }
   ],
   "metadata": {}
  }
 ]
}