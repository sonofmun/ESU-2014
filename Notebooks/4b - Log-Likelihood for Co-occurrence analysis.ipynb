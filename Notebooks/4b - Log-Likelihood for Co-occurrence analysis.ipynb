{
 "metadata": {
  "name": ""
 },
 "nbformat": 3,
 "nbformat_minor": 0,
 "worksheets": [
  {
   "cells": [
    {
     "cell_type": "heading",
     "level": 1,
     "metadata": {},
     "source": [
      "The Log-Likelihood Ratio for Statistical Evaluation of Co-occurrence Counts"
     ]
    },
    {
     "cell_type": "markdown",
     "metadata": {},
     "source": [
      "You've just heard something about the log-likelihood ratio.  Now let's code it.  Below is the equation.\n",
      "\n",
      "$log\\text{ }\\lambda = log (\\frac{L(H_1\\textrm{) # independence}}{L(H_2\\textrm{) # dependence}})$\n",
      "\n",
      "$= log\\text{ }L(c_{12}, c_1, p)\\text{ }+\\text{ }log\\text{ }L(c_2-c_{12}, N-c_1, p)$<br>\n",
      "$\\text{    }-\\text{ }log\\text{ }L(c_{12}, c_1, p_1)\\text{ }-\\text{ }log\\text{ }L(c_2-c_{12}, N-c_1, p_2)$\n",
      "\n",
      "Where $L(k,n,x) = x^k(1-x)^{n-k}$\n",
      "\n",
      "So $log\\text{ }L(c_{12}, c_1, p) = log(p^{c_{12}}(1-p)^{c_1-c_{12}})$\n",
      "\n",
      "$c_1$ = occurrences of word 1 (the target word $t$)<br>\n",
      "$c_2$ = occurrences of word 2 (the co-occurrent $c$)<br>\n",
      "$c_{12}$ = co-occurrences of word 1 with word 2 ($n(c,t)$)<br>\n",
      "$N$ = number of tokens in the text\n",
      "\n",
      "$p = c_2/N$<br>\n",
      "$p_1 = c_{12}/c_1$<br>\n",
      "$p_2 = (c_2-c_{12})/(N-c_1)$"
     ]
    },
    {
     "cell_type": "heading",
     "level": 2,
     "metadata": {},
     "source": [
      "Deriving the counts."
     ]
    },
    {
     "cell_type": "markdown",
     "metadata": {},
     "source": [
      "We run into a problem right away, however.  The code above, which is taken directly from Manning & Sch\u00fctze, is made to work with bigrams, i.e., words that occur together.  For that purpose, we can simply use the $c_1$, $c_2$, and $N$ values from the text to calculate our answers.\n",
      "\n",
      "But we have an 8-word window instead of a 1-word window, so we need to rethink how we derive our counts.  Here, an article from <a href='http://www.cs.bham.ac.uk/~jxb/PUBS/BRM.pdf'>Bullinaria and Levy</a> comes to the rescue.  We will talk about their equations to derive the counts in a second, but first we need to think about the change in thinking their method requires in us.\n",
      "\n",
      "We need to stop thinking of our text as text, because it isn't any more.  The data that we have are _derived_ from the text, but they are _not the text_.  So, if we want to do calculations on our data, we need to derive the counts from our data tables, not from our text.<br>\n",
      "And here's how:\n",
      "\n",
      "$$c_1 = f(t) = \\frac {1}{W} \\sum_c n(c,t)$$\n",
      "\n",
      "The $n(c,t)$ should look familiar to you.  $W$ is the total window size.  I.e., if you are calculating 4L-4R, $W = 8$. The equation means that the frequency of $t$ is the sum for every $c$ (co-occurrent) of the number of times that $t$ (target word) and $c$ co-occur divided by the total size of the co-occurrence window. In our `cooc_dict` in lesson 3b we calculated the number of times that every $t$ co-occurred with every $c$.  And we know the total window size.  So that means that the co-occurrence DataFrame that you derived and saved from the texts in lesson 3b has the data that we need to calculate $c_1$."
     ]
    },
    {
     "cell_type": "markdown",
     "metadata": {},
     "source": [
      "__Quiz:__\n",
      "\n",
      "Write a function below that takes as input a co-occurrence DataFrame and returns a Series with the counts of every $c_1$ based on the equation above.\n",
      "\n",
      "__Note:__ The calculation itself should take only one line of code!"
     ]
    },
    {
     "cell_type": "code",
     "collapsed": false,
     "input": [
      "import pandas as pd\n",
      "import numpy as np\n",
      "\n",
      "from itertools import combinations\n",
      "test_df = pd.read_pickle('test_df.pickle')\n",
      "for a, b in combinations(test_df, 2):\n",
      "    test_df.ix[b,a] = test_df.ix[a,b]\n",
      "print(test_df)"
     ],
     "language": "python",
     "metadata": {},
     "outputs": [
      {
       "output_type": "stream",
       "stream": "stdout",
       "text": [
        "       the    be    to    of   and    a   in  that\n",
        "the   1342   379  1136  2507  1352  437  857   330\n",
        "be     379    68  1021   281   386  269  186   254\n",
        "to    1136  1021   846   719  1103  692  416   412\n",
        "of    2507   281   719   540  1026  930  526   293\n",
        "and   1352   386  1103  1026   742  719  507   331\n",
        "a      437   269   692   930   719  352  447   220\n",
        "in     857   186   416   526   507  447  110   151\n",
        "that   330   254   412   293   331  220  151    40\n",
        "\n",
        "[8 rows x 8 columns]\n"
       ]
      }
     ],
     "prompt_number": 2
    },
    {
     "cell_type": "code",
     "collapsed": false,
     "input": [
      "import pandas as pd\n",
      "\n",
      "def c1_counter(df):\n",
      "    # insert your code here\n",
      "    return df.sum(axis = 1)/8\n",
      "\n",
      "# Test your code below. Look at your results to make sure they make sense!\n",
      "test_df = pd.read_pickle('./Data/blake-songs.txt.cooc.pickle') # I love the way Pandas reads pickles!\n",
      "c1 = c1_counter(test_df)\n",
      "print(c1)"
     ],
     "language": "python",
     "metadata": {},
     "outputs": [
      {
       "output_type": "stream",
       "stream": "stdout",
       "text": [
        "1     1\n",
        "10    1\n",
        "12    1\n",
        "13    1\n",
        "14    1\n",
        "15    1\n",
        "17    1\n",
        "19    1\n",
        "20    1\n",
        "23    1\n",
        "25    1\n",
        "26    1\n",
        "27    1\n",
        "29    1\n",
        "3     1\n",
        "...\n",
        "\u2018sweet     1\n",
        "\u2018then      1\n",
        "\u2018they      1\n",
        "\u2018thou      1\n",
        "\u2018turn      1\n",
        "\u2018weep      3\n",
        "\u2018well      1\n",
        "\u2018what      1\n",
        "\u2018where     1\n",
        "\u2018wrath     1\n",
        "\u2019         33\n",
        "\u2019twas      1\n",
        "\u2019\u2014         1\n",
        "\u201ccome      1\n",
        "\u201d\u2019         1\n",
        "Length: 1388, dtype: float64\n"
       ]
      }
     ],
     "prompt_number": 3
    },
    {
     "cell_type": "markdown",
     "metadata": {},
     "source": [
      "The calculation for the $c_2$ looks similar but is just slightly different.\n",
      "\n",
      "$$c_2 = f(c) = \\frac {1}{W} \\sum_t n(c,t)$$"
     ]
    },
    {
     "cell_type": "markdown",
     "metadata": {},
     "source": [
      "__Quiz:__\n",
      "\n",
      "Try to interpret this equation yourself and then write a function, which will be slightly different from the `c1_counter` function, that takes as input a co-occurrence DataFrame and will calculate the counts for every $c_2$, returning a Pandas Series with these counts."
     ]
    },
    {
     "cell_type": "code",
     "collapsed": true,
     "input": [
      "def c2_counter(df):\n",
      "    # insert your code here\n",
      "    return df.sum(axis = 0)/8\n",
      "\n",
      "# Test your code below. Look at your results to make sure they make sense!\n",
      "c2 = c2_counter(test_df)\n",
      "print(c2)"
     ],
     "language": "python",
     "metadata": {},
     "outputs": [
      {
       "output_type": "stream",
       "stream": "stdout",
       "text": [
        "1     1\n",
        "10    1\n",
        "12    1\n",
        "13    1\n",
        "14    1\n",
        "15    1\n",
        "17    1\n",
        "19    1\n",
        "20    1\n",
        "23    1\n",
        "25    1\n",
        "26    1\n",
        "27    1\n",
        "29    1\n",
        "3     1\n",
        "...\n",
        "\u2018sweet     1\n",
        "\u2018then      1\n",
        "\u2018they      1\n",
        "\u2018thou      1\n",
        "\u2018turn      1\n",
        "\u2018weep      3\n",
        "\u2018well      1\n",
        "\u2018what      1\n",
        "\u2018where     1\n",
        "\u2018wrath     1\n",
        "\u2019         33\n",
        "\u2019twas      1\n",
        "\u2019\u2014         1\n",
        "\u201ccome      1\n",
        "\u201d\u2019         1\n",
        "Length: 1388, dtype: float64\n"
       ]
      }
     ],
     "prompt_number": 4
    },
    {
     "cell_type": "markdown",
     "metadata": {},
     "source": [
      "While technically $c_1$ and $c_2$ should be computed differently because they rely on different data, for the data that we have..."
     ]
    },
    {
     "cell_type": "code",
     "collapsed": false,
     "input": [
      "c1.eq(c2)"
     ],
     "language": "python",
     "metadata": {},
     "outputs": [
      {
       "metadata": {},
       "output_type": "pyout",
       "prompt_number": 5,
       "text": [
        "1     True\n",
        "10    True\n",
        "12    True\n",
        "13    True\n",
        "14    True\n",
        "15    True\n",
        "17    True\n",
        "19    True\n",
        "20    True\n",
        "23    True\n",
        "25    True\n",
        "26    True\n",
        "27    True\n",
        "29    True\n",
        "3     True\n",
        "...\n",
        "\u2018sweet    True\n",
        "\u2018then     True\n",
        "\u2018they     True\n",
        "\u2018thou     True\n",
        "\u2018turn     True\n",
        "\u2018weep     True\n",
        "\u2018well     True\n",
        "\u2018what     True\n",
        "\u2018where    True\n",
        "\u2018wrath    True\n",
        "\u2019         True\n",
        "\u2019twas     True\n",
        "\u2019\u2014        True\n",
        "\u201ccome     True\n",
        "\u201d\u2019        True\n",
        "Length: 1388, dtype: bool"
       ]
      }
     ],
     "prompt_number": 5
    },
    {
     "cell_type": "markdown",
     "metadata": {},
     "source": [
      "Since our co-occurrence table is symmetrical, it doesn't matter whether we sum our data row-wise or column-wise, we get the same answer.  If the above printed `False` instead of `True`, you have done something wrong somewhere.  __Check your code!__"
     ]
    },
    {
     "cell_type": "markdown",
     "metadata": {},
     "source": [
      "Since we will use the co-occurrence counts that we calculated in lesson 3b from our pickled DataFrames, the last count that we need to calculate is that for $N$.  The formula for calculating $N$ is:<br><br>\n",
      "$$N = \\frac {1}{W} \\sum_t\\sum_c n(c,t)$$"
     ]
    },
    {
     "cell_type": "markdown",
     "metadata": {},
     "source": [
      "__Quiz:__\n",
      "\n",
      "Consider what this means and implement a function below that takes a co-occurrence DataFrame and returns the `float` $N$."
     ]
    },
    {
     "cell_type": "code",
     "collapsed": false,
     "input": [
      "import numpy as np\n",
      "\n",
      "def N_counter(df):\n",
      "    # insert your code here\n",
      "    return df.values.sum()/8\n",
      "\n",
      "# code to test your function below.  Check your results.\n",
      "N = N_counter(test_df)\n",
      "#print(test_df.values())\n",
      "print(N)"
     ],
     "language": "python",
     "metadata": {},
     "outputs": [
      {
       "output_type": "stream",
       "stream": "stdout",
       "text": [
        "5636.5\n"
       ]
      }
     ],
     "prompt_number": 6
    },
    {
     "cell_type": "heading",
     "level": 2,
     "metadata": {},
     "source": [
      "Calculate the probabilities."
     ]
    },
    {
     "cell_type": "markdown",
     "metadata": {},
     "source": [
      "__Quiz:__\n",
      "\n",
      "So now we have all the counts that we need, so it is time to calculate the probabilities $p$, $p_1$, and $p_2$.  Define a function below that takes as input one row of a co-occurrence DataFrame (i.e., the $c_{12}$ values for a single word type), the count Series $c_1$ and $c_2$, and the scalar $N$ and returns the Series $p$, $p_1$, and $p_2$ containing the $p$ values for the target word.\n",
      "\n",
      "__Note:__ Vectorize!"
     ]
    },
    {
     "cell_type": "markdown",
     "metadata": {},
     "source": [
      "$p = c_2/N$<br>\n",
      "$p_1 = c_{12}/c_1$<br>\n",
      "$p_2 = (c_2-c_{12})/(N-c_1)$"
     ]
    },
    {
     "cell_type": "code",
     "collapsed": false,
     "input": [
      "def p_calc(c12, c1, c2, N):\n",
      "    #insert your code here\n",
      "    p = c2/N \n",
      "    p1 = c12/c1\n",
      "    p2 = (c2-c12)/(N-c1)\n",
      "    return p, p1, p2\n",
      "\n",
      "# code to test your function below. Check your results\n",
      "p, p1, p2 = p_calc(test_df.ix['the'], c1.ix['the'], c2, N)\n",
      "for c in p.index[:10]:\n",
      "    print('p for \"the\" and \"%s\" == %s' % (c, p.ix[c]))\n",
      "    print('p1 for \"the\" and \"%s\" == %s' % (c, p1.ix[c]))\n",
      "    print('p2 for \"the\" and \"%s\" == %s' % (c, p2.ix[c]))"
     ],
     "language": "python",
     "metadata": {},
     "outputs": [
      {
       "output_type": "stream",
       "stream": "stdout",
       "text": [
        "p for \"the\" and \"1\" == 0.000177415062539\n",
        "p1 for \"the\" and \"1\" == 0.00560224089636\n",
        "p2 for \"the\" and \"1\" == -0.000189411876125\n",
        "p for \"the\" and \"10\" == 0.000177415062539\n",
        "p1 for \"the\" and \"10\" == 0.00560224089636\n",
        "p2 for \"the\" and \"10\" == -0.000189411876125\n",
        "p for \"the\" and \"12\" == 0.000177415062539\n",
        "p1 for \"the\" and \"12\" == 0.00560224089636\n",
        "p2 for \"the\" and \"12\" == -0.000189411876125\n",
        "p for \"the\" and \"13\" == 0.000177415062539\n",
        "p1 for \"the\" and \"13\" == 0.00280112044818\n",
        "p2 for \"the\" and \"13\" == 0.0\n",
        "p for \"the\" and \"14\" == 0.000177415062539\n",
        "p1 for \"the\" and \"14\" == 0.0\n",
        "p2 for \"the\" and \"14\" == 0.000189411876125\n",
        "p for \"the\" and \"15\" == 0.000177415062539\n",
        "p1 for \"the\" and \"15\" == 0.00280112044818\n",
        "p2 for \"the\" and \"15\" == 0.0\n",
        "p for \"the\" and \"17\" == 0.000177415062539\n",
        "p1 for \"the\" and \"17\" == 0.00280112044818\n",
        "p2 for \"the\" and \"17\" == 0.0\n",
        "p for \"the\" and \"19\" == 0.000177415062539\n",
        "p1 for \"the\" and \"19\" == 0.0\n",
        "p2 for \"the\" and \"19\" == 0.000189411876125\n",
        "p for \"the\" and \"20\" == 0.000177415062539\n",
        "p1 for \"the\" and \"20\" == 0.0\n",
        "p2 for \"the\" and \"20\" == 0.000189411876125\n",
        "p for \"the\" and \"23\" == 0.000177415062539\n",
        "p1 for \"the\" and \"23\" == 0.0\n",
        "p2 for \"the\" and \"23\" == 0.000189411876125\n"
       ]
      }
     ],
     "prompt_number": 7
    },
    {
     "cell_type": "heading",
     "level": 2,
     "metadata": {},
     "source": [
      "Code the equation itself."
     ]
    },
    {
     "cell_type": "markdown",
     "metadata": {},
     "source": [
      "Now, we have all of the values that we need to actually implement the log-likelihood equation above.  But we should write one more function before we jump into solving the equation.  This function should deal with this sub-equation:\n",
      "\n",
      "$L(k,n,x) = x^k(1-x)^{n-k}$"
     ]
    },
    {
     "cell_type": "markdown",
     "metadata": {},
     "source": [
      "__Quiz:__\n",
      "\n",
      "I bet you can figure out what to do below!"
     ]
    },
    {
     "cell_type": "code",
     "collapsed": false,
     "input": [
      "def L(k,n,x):\n",
      "    #insert your code here\n",
      "    return np.power(x, k)*np.power((1-x),(n-k))"
     ],
     "language": "python",
     "metadata": {},
     "outputs": [],
     "prompt_number": 8
    },
    {
     "cell_type": "markdown",
     "metadata": {},
     "source": [
      "And now, finally, we can code the equation itself.\n",
      "\n",
      "$= log\\text{ }L(c_{12}, c_1, p)\\text{ }+\\text{ }log\\text{ }L(c_2-c_{12}, N-c_1, p)$<br>\n",
      "$\\text{    }-\\text{ }log\\text{ }L(c_{12}, c_1, p_1)\\text{ }-\\text{ }log\\text{ }L(c_2-c_{12}, N-c_1, p_2)$\n",
      "\n",
      "Because we have broken the process down into several steps, this function should be just a short as all of the functions above.  Maybe even shorter.  The function below should return a Series with the log-likelihood values for every co-occurrent $c$ in relation to one target word $t$.\n",
      "\n",
      "__Note:__ Because we can reference global variables inside a function, we do not need to pass any arguments to our function except the target word $t$."
     ]
    },
    {
     "cell_type": "code",
     "collapsed": false,
     "input": [
      "def log_likelihood(t):\n",
      "    #insert your code here.\n",
      "    e1 = np.log(L(test_df.ix[t], c1.ix[t], p))\n",
      "    e2 = np.log(L(c2 - test_df.ix[t], N-c1, p))\n",
      "    e3 = np.log(L(test_df.ix[t], c1, p1))\n",
      "    e4 = np.log(L(c2-test_df.ix[t], N-c1, p2))\n",
      "    return -2*(e1+e2-e3-e4)\n",
      "\n",
      "# To test your code. Check your results.\n",
      "LL_series = log_likelihood('the')\n",
      "print(LL_series)"
     ],
     "language": "python",
     "metadata": {},
     "outputs": [
      {
       "output_type": "stream",
       "stream": "stdout",
       "text": [
        "1           NaN\n",
        "10          NaN\n",
        "12          NaN\n",
        "13    19.273860\n",
        "14     0.000355\n",
        "15    19.273860\n",
        "17    19.273860\n",
        "19     0.000355\n",
        "20     0.000355\n",
        "23     0.000355\n",
        "25     0.000355\n",
        "26     0.000355\n",
        "27     0.000355\n",
        "29     0.000355\n",
        "3           NaN\n",
        "...\n",
        "\u2018sweet      0.000355\n",
        "\u2018then       0.000355\n",
        "\u2018they       0.000355\n",
        "\u2018thou       0.000355\n",
        "\u2018turn      19.273860\n",
        "\u2018weep      28.136961\n",
        "\u2018well       0.000355\n",
        "\u2018what      19.273860\n",
        "\u2018where      0.000355\n",
        "\u2018wrath     19.273860\n",
        "\u2019         151.952830\n",
        "\u2019twas       0.000355\n",
        "\u2019\u2014          0.000355\n",
        "\u201ccome      19.273860\n",
        "\u201d\u2019          0.000355\n",
        "Length: 1388, dtype: float64\n"
       ]
      }
     ],
     "prompt_number": 9
    },
    {
     "cell_type": "heading",
     "level": 2,
     "metadata": {},
     "source": [
      "Dealing with NaN values."
     ]
    },
    {
     "cell_type": "markdown",
     "metadata": {},
     "source": [
      "You may have noticed that some of the values in our `LL_series` object are NaN values.  That means that, for whatever reason, Python was unable to compute them.  Take a look at the data you are using and the results you are getting and try to figure out why this is happening.  Take a moment to think about this problem and how you think you might be able to solve it."
     ]
    },
    {
     "cell_type": "heading",
     "level": 6,
     "metadata": {},
     "source": [
      "Discuss, discuss, discuss, discuss."
     ]
    },
    {
     "cell_type": "markdown",
     "metadata": {},
     "source": [
      "On the basis of the discussions, edit your `log_likelihood` function below to deal with the NaN problem.\n",
      "\n",
      "__Notes:__ 64-bit float: $10^{-323}$, 128-bit float: $10^{-4950}$, `Decimal` float: $10^{-999,999,999,999,999,999}$"
     ]
    },
    {
     "cell_type": "markdown",
     "metadata": {},
     "source": [
      "$log(x**k) = log(x)*k$"
     ]
    },
    {
     "cell_type": "code",
     "collapsed": false,
     "input": [
      "x = np.float128(.0001)\n",
      "for k in range(5000):\n",
      "    if x**k == 0:\n",
      "        print(k)\n",
      "        break"
     ],
     "language": "python",
     "metadata": {},
     "outputs": [
      {
       "output_type": "stream",
       "stream": "stdout",
       "text": [
        "1238\n"
       ]
      }
     ],
     "prompt_number": 10
    },
    {
     "cell_type": "code",
     "collapsed": false,
     "input": [
      "def log_L(k,n,x):\n",
      "    #insert your code here\n",
      "    return (np.log(x)*k)+(np.log(1-x)*(n-k))"
     ],
     "language": "python",
     "metadata": {},
     "outputs": [],
     "prompt_number": 11
    },
    {
     "cell_type": "code",
     "collapsed": false,
     "input": [
      "for probs in [p, p1, p2]:\n",
      "    probs[probs >= 1] = .999999\n",
      "    probs[probs <= 0] = .000001"
     ],
     "language": "python",
     "metadata": {},
     "outputs": [],
     "prompt_number": 12
    },
    {
     "cell_type": "code",
     "collapsed": false,
     "input": [
      "def log_likelihood(t, df, c2, p):\n",
      "    #insert your code here.\n",
      "    \n",
      "    c12 = df.ix[t]\n",
      "    c1 = c12.sum()/8\n",
      "    e1 = log_L(c12, c1, p)\n",
      "    e2 = log_L(c2 - c12, N-c1, p)\n",
      "    e3 = log_L(c12, c1, p1)\n",
      "    e4 = log_L(c2-c12, N-c1, p2)\n",
      "    return -2*(e1 + e2 - e3 - e4)\n",
      "\n",
      "# To test your code. Check your results.\n",
      "LL_series = log_likelihood('the', test_df)\n",
      "print(LL_series)"
     ],
     "language": "python",
     "metadata": {},
     "outputs": [
      {
       "output_type": "stream",
       "stream": "stdout",
       "text": [
        "1    -9762.118180\n",
        "10   -9762.118180\n",
        "12   -9762.118180\n",
        "13   -9817.380219\n",
        "14       0.125994\n",
        "15   -9817.380219\n",
        "17   -9817.380219\n",
        "19       0.125994\n",
        "20       0.125994\n",
        "23       0.125994\n",
        "25       0.125994\n",
        "26       0.125994\n",
        "27       0.125994\n",
        "29       0.125994\n",
        "3    -9762.118180\n",
        "...\n",
        "\u2018sweet       0.125994\n",
        "\u2018then        0.125994\n",
        "\u2018they        0.125994\n",
        "\u2018thou        0.125994\n",
        "\u2018turn    -9817.380219\n",
        "\u2018weep     -749.554852\n",
        "\u2018well        0.125994\n",
        "\u2018what    -9817.380219\n",
        "\u2018where       0.125994\n",
        "\u2018wrath   -9817.380219\n",
        "\u2019         -357.230584\n",
        "\u2019twas        0.125994\n",
        "\u2019\u2014           0.125994\n",
        "\u201ccome    -9817.380219\n",
        "\u201d\u2019           0.125994\n",
        "Length: 1388, dtype: float64\n"
       ]
      }
     ],
     "prompt_number": 25
    },
    {
     "cell_type": "heading",
     "level": 2,
     "metadata": {},
     "source": [
      "Putting it all together!"
     ]
    },
    {
     "cell_type": "heading",
     "level": 4,
     "metadata": {},
     "source": [
      "This last piece of script should be quite easy now that you have coded all of the functions above.  The last step in the process is to write a script that will go through all the target words $t$ in your corpus, calculate the log-likelihood vectors for all of them, and then put them together into a new DataFrame that has the same shape as your co-occurrence DataFrame but is, instead, filled with log-likelihood values.  I will get you started."
     ]
    },
    {
     "cell_type": "code",
     "collapsed": false,
     "input": [
      "LL_df = pd.DataFrame(index = test_df.index, columns = test_df.columns)\n",
      "# initializing an empty DataFrame like this will reserve the necessary memory to build it\n",
      "# But you shouldn't initialize until you are ready to build it, as we are here.\n",
      "for t in test_df.index:\n",
      "    p, p1, p2 = p_calc(test_df.ix[t], c1, c2, N)\n",
      "    LL_df.ix[t] = log_likelihood(t)"
     ],
     "language": "python",
     "metadata": {},
     "outputs": [
      {
       "ename": "TypeError",
       "evalue": "log_likelihood() missing 1 required positional argument: 'df'",
       "output_type": "pyerr",
       "traceback": [
        "\u001b[0;31m---------------------------------------------------------------------------\u001b[0m\n\u001b[0;31mTypeError\u001b[0m                                 Traceback (most recent call last)",
        "\u001b[0;32m<ipython-input-12-2bf35a6f6e52>\u001b[0m in \u001b[0;36m<module>\u001b[0;34m()\u001b[0m\n\u001b[1;32m      4\u001b[0m \u001b[0;32mfor\u001b[0m \u001b[0mt\u001b[0m \u001b[0;32min\u001b[0m \u001b[0mtest_df\u001b[0m\u001b[0;34m.\u001b[0m\u001b[0mindex\u001b[0m\u001b[0;34m:\u001b[0m\u001b[0;34m\u001b[0m\u001b[0m\n\u001b[1;32m      5\u001b[0m     \u001b[0mp\u001b[0m\u001b[0;34m,\u001b[0m \u001b[0mp1\u001b[0m\u001b[0;34m,\u001b[0m \u001b[0mp2\u001b[0m \u001b[0;34m=\u001b[0m \u001b[0mp_calc\u001b[0m\u001b[0;34m(\u001b[0m\u001b[0mtest_df\u001b[0m\u001b[0;34m.\u001b[0m\u001b[0mix\u001b[0m\u001b[0;34m[\u001b[0m\u001b[0mt\u001b[0m\u001b[0;34m]\u001b[0m\u001b[0;34m,\u001b[0m \u001b[0mc1\u001b[0m\u001b[0;34m,\u001b[0m \u001b[0mc2\u001b[0m\u001b[0;34m,\u001b[0m \u001b[0mN\u001b[0m\u001b[0;34m)\u001b[0m\u001b[0;34m\u001b[0m\u001b[0m\n\u001b[0;32m----> 6\u001b[0;31m     \u001b[0mLL_df\u001b[0m\u001b[0;34m.\u001b[0m\u001b[0mix\u001b[0m\u001b[0;34m[\u001b[0m\u001b[0mt\u001b[0m\u001b[0;34m]\u001b[0m \u001b[0;34m=\u001b[0m \u001b[0mlog_likelihood\u001b[0m\u001b[0;34m(\u001b[0m\u001b[0mt\u001b[0m\u001b[0;34m)\u001b[0m\u001b[0;34m\u001b[0m\u001b[0m\n\u001b[0m",
        "\u001b[0;31mTypeError\u001b[0m: log_likelihood() missing 1 required positional argument: 'df'"
       ]
      }
     ],
     "prompt_number": 12
    },
    {
     "cell_type": "code",
     "collapsed": true,
     "input": [
      "print(LL_df)"
     ],
     "language": "python",
     "metadata": {},
     "outputs": []
    },
    {
     "cell_type": "heading",
     "level": 2,
     "metadata": {},
     "source": [
      "Final Activity"
     ]
    },
    {
     "cell_type": "markdown",
     "metadata": {},
     "source": [
      "You have everything you need now to calculate the log-likelihood ratio for the co-occurrence DataFrames that we pickled in lesson 3b.  So write a script below that loads each of these DataFrames, runs it through the gamut of functions above, produces a full log-likelihood DataFrame, and then pickles this DataFrame as an appropriately named `.pickle` file in the directory of your choosing.\n",
      "\n",
      "__Note:__ If you have cloned the original repository on Github, don't try to `push` after having produced all of these data files.  I expect that some of them could be several hundred MB or even several GB.\n",
      "\n",
      "__Note2:__ If you are getting memory errors, just find the smallest co-occurrence DataFrame in your collection (if you are using the provided data, then probably `blake-songs` or `blake-poems`) and run the LL functions on that DF.\n",
      "\n",
      "__Note3:__ Even if you have vectorized everything perfectly, it will probably take several minutes for your code to run (maybe even much longer).  So go grab a coffee while it is running."
     ]
    },
    {
     "cell_type": "code",
     "collapsed": false,
     "input": [
      "def p_calc(c12, c1, c2, N):\n",
      "    #insert your code here\n",
      "    #p = c2/N #Doesn't need to be calculated for every word.\n",
      "    p1 = c12/c1\n",
      "    p2 = (c2-c12)/(N-c1)\n",
      "    return p1, p2"
     ],
     "language": "python",
     "metadata": {},
     "outputs": [],
     "prompt_number": 27
    },
    {
     "cell_type": "code",
     "collapsed": false,
     "input": [
      "def log_L(k,n,x):\n",
      "    #insert your code here\n",
      "    return (np.log(x)*k)+(np.log(1-x)*(n-k))"
     ],
     "language": "python",
     "metadata": {},
     "outputs": [],
     "prompt_number": 28
    },
    {
     "cell_type": "code",
     "collapsed": false,
     "input": [
      "def log_likelihood(c12, c2, p, N):\n",
      "    #insert your code here.\n",
      "    \n",
      "    c1 = c12.sum()/8\n",
      "    p1, p2 = p_calc(c12, c1, c2, N)\n",
      "    e1 = log_L(c12, c1, p).replace([np.inf, -np.inf, np.nan], 0)\n",
      "    e2 = log_L(c2 - c12, N-c1, p).replace([np.inf, -np.inf, np.nan], 0)\n",
      "    e3 = log_L(c12, c1, p1).replace([np.inf, -np.inf, np.nan], 0)\n",
      "    e4 = log_L(c2-c12, N-c1, p2).replace([np.inf, -np.inf, np.nan], 0)\n",
      "    return -2*(e1 + e2 - e3 - e4)"
     ],
     "language": "python",
     "metadata": {},
     "outputs": [],
     "prompt_number": 29
    },
    {
     "cell_type": "code",
     "collapsed": false,
     "input": [
      "# Insert your code here.\n",
      "from glob import glob\n",
      "from os.path import basename\n",
      "import pandas as pd\n",
      "import numpy as np\n",
      "\n",
      "def calculation():\n",
      "    for filename in ['./Data/blake-songs.txt.cooc.pickle']:\n",
      "        print(filename)\n",
      "        df = pd.read_pickle(filename)\n",
      "        c2 = c1_counter(df)\n",
      "        N = N_counter(df)\n",
      "        p = c2/N\n",
      "        LL_df = pd.DataFrame(index = df.index, columns = df.columns)\n",
      "        counter = 0\n",
      "# initializing an empty DataFrame like this will reserve the necessary memory to build it\n",
      "# But you shouldn't initialize until you are ready to build it, as we are here.\n",
      "        for t in df.index:\n",
      "            if counter % 100 == 0:\n",
      "                print('Now calculating row %s of %s' % (counter, len(df)))\n",
      "            LL_df.ix[t] = log_likelihood(df.ix[t], c2, p, N)\n",
      "            counter +=1\n",
      "        LL_df.to_pickle('./Data/%s.LL.pickle' % (basename(filename)[:-6]))\n",
      "\n",
      "calculation()"
     ],
     "language": "python",
     "metadata": {},
     "outputs": [
      {
       "output_type": "stream",
       "stream": "stdout",
       "text": [
        "./Data/blake-songs.txt.cooc.pickle\n",
        "Now calculating row 0 of 1388"
       ]
      },
      {
       "output_type": "stream",
       "stream": "stdout",
       "text": [
        "\n",
        "Now calculating row 100 of 1388"
       ]
      },
      {
       "output_type": "stream",
       "stream": "stdout",
       "text": [
        "\n",
        "Now calculating row 200 of 1388"
       ]
      },
      {
       "output_type": "stream",
       "stream": "stdout",
       "text": [
        "\n",
        "Now calculating row 300 of 1388"
       ]
      },
      {
       "output_type": "stream",
       "stream": "stdout",
       "text": [
        "\n",
        "Now calculating row 400 of 1388"
       ]
      },
      {
       "output_type": "stream",
       "stream": "stdout",
       "text": [
        "\n",
        "Now calculating row 500 of 1388"
       ]
      },
      {
       "output_type": "stream",
       "stream": "stdout",
       "text": [
        "\n",
        "Now calculating row 600 of 1388"
       ]
      },
      {
       "output_type": "stream",
       "stream": "stdout",
       "text": [
        "\n",
        "Now calculating row 700 of 1388"
       ]
      },
      {
       "output_type": "stream",
       "stream": "stdout",
       "text": [
        "\n",
        "Now calculating row 800 of 1388"
       ]
      },
      {
       "output_type": "stream",
       "stream": "stdout",
       "text": [
        "\n",
        "Now calculating row 900 of 1388"
       ]
      },
      {
       "output_type": "stream",
       "stream": "stdout",
       "text": [
        "\n",
        "Now calculating row 1000 of 1388"
       ]
      },
      {
       "output_type": "stream",
       "stream": "stdout",
       "text": [
        "\n",
        "Now calculating row 1100 of 1388"
       ]
      },
      {
       "output_type": "stream",
       "stream": "stdout",
       "text": [
        "\n",
        "Now calculating row 1200 of 1388"
       ]
      },
      {
       "output_type": "stream",
       "stream": "stdout",
       "text": [
        "\n",
        "Now calculating row 1300 of 1388"
       ]
      },
      {
       "output_type": "stream",
       "stream": "stdout",
       "text": [
        "\n"
       ]
      }
     ],
     "prompt_number": 30
    }
   ],
   "metadata": {}
  }
 ]
}